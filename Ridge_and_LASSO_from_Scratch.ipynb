{
  "nbformat": 4,
  "nbformat_minor": 0,
  "metadata": {
    "colab": {
      "name": "Ridge and LASSO from Scratch.ipynb",
      "provenance": [],
      "collapsed_sections": []
    },
    "kernelspec": {
      "name": "python3",
      "display_name": "Python 3"
    }
  },
  "cells": [
    {
      "cell_type": "code",
      "metadata": {
        "id": "MMuS-m_pppZp",
        "colab_type": "code",
        "colab": {}
      },
      "source": [
        "import pandas as pd\n",
        "import numpy as np\n",
        "import matplotlib.pyplot as plt\n",
        "import warnings\n",
        "warnings.filterwarnings('ignore')"
      ],
      "execution_count": 585,
      "outputs": []
    },
    {
      "cell_type": "code",
      "metadata": {
        "id": "DPKspWh7SxS8",
        "colab_type": "code",
        "colab": {}
      },
      "source": [
        "from sklearn.datasets import make_regression"
      ],
      "execution_count": 586,
      "outputs": []
    },
    {
      "cell_type": "code",
      "metadata": {
        "id": "yyE1IMvzS2ie",
        "colab_type": "code",
        "colab": {}
      },
      "source": [
        "data=make_regression(1000,20,n_informative=15,noise=10)\n",
        "x=pd.DataFrame(data[0])\n",
        "y=pd.Series(data[1])"
      ],
      "execution_count": 587,
      "outputs": []
    },
    {
      "cell_type": "code",
      "metadata": {
        "id": "dgvIQk4UTk2a",
        "colab_type": "code",
        "colab": {}
      },
      "source": [
        "from sklearn.linear_model import LinearRegression,Ridge,Lasso"
      ],
      "execution_count": 588,
      "outputs": []
    },
    {
      "cell_type": "markdown",
      "metadata": {
        "id": "HQIxjDQyW14C",
        "colab_type": "text"
      },
      "source": [
        " ## Closed form solution of Linear Reg and Ridge Reg"
      ]
    },
    {
      "cell_type": "code",
      "metadata": {
        "id": "qWTWQp2zTiLx",
        "colab_type": "code",
        "colab": {
          "base_uri": "https://localhost:8080/",
          "height": 119
        },
        "outputId": "44d314fd-db7f-4c93-e714-a3ffb7469440"
      },
      "source": [
        "lin_reg=LinearRegression()\n",
        "lin_reg.fit(x,y)\n",
        "lin_reg.intercept_,lin_reg.coef_"
      ],
      "execution_count": 589,
      "outputs": [
        {
          "output_type": "execute_result",
          "data": {
            "text/plain": [
              "(1.0285534463516122,\n",
              " array([100.09964049,  -0.22128996,  64.39052715,  30.24127071,\n",
              "         56.12727421,   0.12336893,   0.3602947 ,  72.50298345,\n",
              "          7.70977614,  94.57202546,  96.0981693 ,  64.30834272,\n",
              "         22.19190159,  93.10141607,  97.48578165,  57.17598711,\n",
              "         58.63008735,  29.79260827,  -0.82752635,   0.28200604]))"
            ]
          },
          "metadata": {
            "tags": []
          },
          "execution_count": 589
        }
      ]
    },
    {
      "cell_type": "code",
      "metadata": {
        "id": "fmth4J-ET3BP",
        "colab_type": "code",
        "colab": {
          "base_uri": "https://localhost:8080/",
          "height": 119
        },
        "outputId": "94da7286-d77a-43ef-bc9b-6ec84bd470ca"
      },
      "source": [
        "x_sc=np.c_[np.ones(x.shape[0]),x]\n",
        "reg_sc=np.linalg.inv(x_sc.T@x_sc) @ (x_sc.T@y.values.reshape(-1,1))\n",
        "reg_sc[0],reg_sc[1:].flatten()"
      ],
      "execution_count": 590,
      "outputs": [
        {
          "output_type": "execute_result",
          "data": {
            "text/plain": [
              "(array([1.02855345]),\n",
              " array([100.09964049,  -0.22128996,  64.39052715,  30.24127071,\n",
              "         56.12727421,   0.12336893,   0.3602947 ,  72.50298345,\n",
              "          7.70977614,  94.57202546,  96.0981693 ,  64.30834272,\n",
              "         22.19190159,  93.10141607,  97.48578165,  57.17598711,\n",
              "         58.63008735,  29.79260827,  -0.82752635,   0.28200604]))"
            ]
          },
          "metadata": {
            "tags": []
          },
          "execution_count": 590
        }
      ]
    },
    {
      "cell_type": "code",
      "metadata": {
        "id": "Jn_7zoaAVxUy",
        "colab_type": "code",
        "colab": {
          "base_uri": "https://localhost:8080/",
          "height": 119
        },
        "outputId": "6af58322-9241-4638-e3c8-f86eccd65de0"
      },
      "source": [
        "rid_reg=Ridge(150,)\n",
        "rid_reg.fit(x,y)\n",
        "rid_reg.intercept_,rid_reg.coef_"
      ],
      "execution_count": 591,
      "outputs": [
        {
          "output_type": "execute_result",
          "data": {
            "text/plain": [
              "(2.454355551303136,\n",
              " array([ 8.75291409e+01, -5.60518829e-02,  5.60462127e+01,  2.53076880e+01,\n",
              "         4.91216236e+01,  7.52753022e-01,  1.23878478e-02,  6.27674774e+01,\n",
              "         6.37264725e+00,  8.02820539e+01,  8.21940836e+01,  5.38761483e+01,\n",
              "         2.03702797e+01,  8.07156092e+01,  8.41180502e+01,  4.85956587e+01,\n",
              "         5.02299935e+01,  2.48225975e+01,  1.00492158e+00,  1.42327153e+00]))"
            ]
          },
          "metadata": {
            "tags": []
          },
          "execution_count": 591
        }
      ]
    },
    {
      "cell_type": "code",
      "metadata": {
        "id": "R6ylfft3V887",
        "colab_type": "code",
        "colab": {
          "base_uri": "https://localhost:8080/",
          "height": 119
        },
        "outputId": "e80448b0-2fcd-4798-d70e-e4becbc016ab"
      },
      "source": [
        "rid_reg_sc=np.linalg.inv(x_sc.T@x_sc + np.identity(x_sc.shape[1])*150) @ (x_sc.T@y.values.reshape(-1,1))\n",
        "rid_reg_sc[0],rid_reg_sc[1:].flatten()\n"
      ],
      "execution_count": 592,
      "outputs": [
        {
          "output_type": "execute_result",
          "data": {
            "text/plain": [
              "(array([2.12633594]),\n",
              " array([ 8.75309350e+01, -5.71802790e-02,  5.60585309e+01,  2.53181320e+01,\n",
              "         4.90906590e+01,  7.38701367e-01,  5.93710162e-03,  6.27710434e+01,\n",
              "         6.37574828e+00,  8.02807071e+01,  8.22085213e+01,  5.38764409e+01,\n",
              "         2.03767292e+01,  8.07206905e+01,  8.41285656e+01,  4.86154725e+01,\n",
              "         5.02224532e+01,  2.48089733e+01,  1.01066465e+00,  1.43077864e+00]))"
            ]
          },
          "metadata": {
            "tags": []
          },
          "execution_count": 592
        }
      ]
    },
    {
      "cell_type": "markdown",
      "metadata": {
        "id": "BIFXvku7XBkr",
        "colab_type": "text"
      },
      "source": [
        "## Ridge Using Gradient Descent"
      ]
    },
    {
      "cell_type": "code",
      "metadata": {
        "id": "wemb1xb8XGIU",
        "colab_type": "code",
        "colab": {}
      },
      "source": [
        "def gradientdesc_ridge(*b,yi,xi,lam,tolerane,eta,verbose=False):\n",
        "    mag=100\n",
        "    xi=np.c_[[1 for _ in range(len(xi))],xi]\n",
        "    while mag>tolerane:\n",
        "        coef=np.array([*b]).reshape(-1,1)\n",
        "        pred=xi\n",
        "        error=yi.values.reshape(-1,1)-pred.dot(coef)\n",
        "        a=[np.sum(error)]\n",
        "        for i in range(1,xi.shape[1]):\n",
        "            a.append(np.sum(error*xi[:,i].reshape(-1,1)))\n",
        "        derv=np.array(a)\n",
        "        new_co=(coef*(1-(2*eta*lam)))+(2*eta*derv.reshape(-1,1))#the online line that changes from LR GD\n",
        "        if verbose==True:\n",
        "            print(*new_co)\n",
        "        ns=new_co\n",
        "        b=ns.flatten()\n",
        "        m=[]\n",
        "        for z in derv:\n",
        "            m.append(z**2)\n",
        "        mag=np.sqrt(np.sum(m))\n",
        "    return b"
      ],
      "execution_count": 593,
      "outputs": []
    },
    {
      "cell_type": "code",
      "metadata": {
        "id": "xasSvw7hEtke",
        "colab_type": "code",
        "colab": {}
      },
      "source": [
        "x=pd.DataFrame(data[0])\n",
        "y=pd.Series(data[1])\n",
        "ew=[0 for _ in range(x.shape[1]+1)]"
      ],
      "execution_count": 594,
      "outputs": []
    },
    {
      "cell_type": "code",
      "metadata": {
        "id": "ycyu4bZIDX_t",
        "colab_type": "code",
        "colab": {}
      },
      "source": [
        "#gradientdesc_ridge(ew,xi=x,yi=y,lam=150,tolerane=0.01,eta=0.0001,verbose=True)"
      ],
      "execution_count": 595,
      "outputs": []
    },
    {
      "cell_type": "code",
      "metadata": {
        "id": "hMEou18CqWsU",
        "colab_type": "code",
        "colab": {}
      },
      "source": [
        "def coordinate_descent_ridge(X,y,lam,alpha = .03, num_iters=20,normalize=False,verbose=False):\n",
        "    if normalize==False:\n",
        "        X=np.c_[np.ones(X.shape[0]),X]\n",
        "        m,n = X.shape\n",
        "        theta = np.zeros(n).reshape(-1,1)\n",
        "        print(theta.flatten())\n",
        "    \n",
        "        for i in range(num_iters):\n",
        "            for j in range(n):\n",
        "                h = X @ theta \n",
        "                gradient =  ((X[:,j] @ (h-y))) + (lam*theta[j])\n",
        "                theta[j] = theta[j] - alpha * gradient\n",
        "                if verbose==True:\n",
        "                    print(theta.flatten())\n",
        "                       \n",
        "        return theta.flatten()\n",
        "    elif normalize==True:\n",
        "        X=np.c_[np.ones(X.shape[0]),X]\n",
        "        X = X / (np.linalg.norm(X,axis = 0)) \n",
        "        m,n = X.shape\n",
        "        theta = np.zeros(n).reshape(-1,1)\n",
        "        print(theta.flatten())\n",
        "        for i in range(num_iters):\n",
        "            for j in range(n):\n",
        "                h = ((X[:,0:j] @ theta[0:j]) + (X[:,j+1:] @ theta[j+1:]))\n",
        "                theta[j] =  (X[:,j] @ (y - h))/(1+lam)\n",
        "                if verbose==True:\n",
        "                    print(theta.flatten())\n",
        "                       \n",
        "    return theta.flatten()"
      ],
      "execution_count": 596,
      "outputs": []
    },
    {
      "cell_type": "code",
      "metadata": {
        "id": "Yo7we5LB1UYz",
        "colab_type": "code",
        "colab": {
          "base_uri": "https://localhost:8080/",
          "height": 136
        },
        "outputId": "8e8a3666-1bc7-4ff1-b4a3-059ea022ffe7"
      },
      "source": [
        "coordinate_descent_ridge(x,y.values.reshape(-1,1),150,alpha = .00001, num_iters=1000,normalize=False,verbose=False)"
      ],
      "execution_count": 597,
      "outputs": [
        {
          "output_type": "stream",
          "text": [
            "[0. 0. 0. 0. 0. 0. 0. 0. 0. 0. 0. 0. 0. 0. 0. 0. 0. 0. 0. 0. 0.]\n"
          ],
          "name": "stdout"
        },
        {
          "output_type": "execute_result",
          "data": {
            "text/plain": [
              "array([ 2.12818172e+00,  8.75307208e+01, -5.78399504e-02,  5.60572750e+01,\n",
              "        2.53161558e+01,  4.90912361e+01,  7.39567044e-01,  6.21594832e-03,\n",
              "        6.27692424e+01,  6.37579178e+00,  8.02757300e+01,  8.22058815e+01,\n",
              "        5.38732795e+01,  2.03779618e+01,  8.07191149e+01,  8.41261944e+01,\n",
              "        4.86120111e+01,  5.02206507e+01,  2.48069534e+01,  1.01344045e+00,\n",
              "        1.43190963e+00])"
            ]
          },
          "metadata": {
            "tags": []
          },
          "execution_count": 597
        }
      ]
    },
    {
      "cell_type": "code",
      "metadata": {
        "id": "TCur-MO5_29Y",
        "colab_type": "code",
        "colab": {
          "base_uri": "https://localhost:8080/",
          "height": 119
        },
        "outputId": "5cec2b23-279d-463e-e35e-9591c30238b8"
      },
      "source": [
        "rid_reg_sc[0],rid_reg_sc[1:].flatten()"
      ],
      "execution_count": 598,
      "outputs": [
        {
          "output_type": "execute_result",
          "data": {
            "text/plain": [
              "(array([2.12633594]),\n",
              " array([ 8.75309350e+01, -5.71802790e-02,  5.60585309e+01,  2.53181320e+01,\n",
              "         4.90906590e+01,  7.38701367e-01,  5.93710162e-03,  6.27710434e+01,\n",
              "         6.37574828e+00,  8.02807071e+01,  8.22085213e+01,  5.38764409e+01,\n",
              "         2.03767292e+01,  8.07206905e+01,  8.41285656e+01,  4.86154725e+01,\n",
              "         5.02224532e+01,  2.48089733e+01,  1.01066465e+00,  1.43077864e+00]))"
            ]
          },
          "metadata": {
            "tags": []
          },
          "execution_count": 598
        }
      ]
    },
    {
      "cell_type": "code",
      "metadata": {
        "id": "jDUs_XsMsYJ5",
        "colab_type": "code",
        "colab": {
          "base_uri": "https://localhost:8080/",
          "height": 119
        },
        "outputId": "dcea89d4-3049-48cf-8257-ed6a3aea7905"
      },
      "source": [
        "coordinate_descent_ridge(x,y.values.reshape(-1,1),150,alpha = .03, num_iters=20,normalize=True,verbose=False)"
      ],
      "execution_count": 599,
      "outputs": [
        {
          "output_type": "stream",
          "text": [
            "[0. 0. 0. 0. 0. 0. 0. 0. 0. 0. 0. 0. 0. 0. 0. 0. 0. 0. 0. 0. 0.]\n"
          ],
          "name": "stdout"
        },
        {
          "output_type": "execute_result",
          "data": {
            "text/plain": [
              "array([ 2.36019171, 21.86621241,  0.52946377, 13.52035221,  5.15692161,\n",
              "       12.28755012,  1.06728009, -0.62898294, 14.79200335,  0.92728779,\n",
              "       17.60549295, 17.88454515,  9.60395249,  6.22077262, 19.23766195,\n",
              "       19.23777305, 11.21014221, 11.28200063,  4.527116  ,  2.48615111,\n",
              "        2.20462285])"
            ]
          },
          "metadata": {
            "tags": []
          },
          "execution_count": 599
        }
      ]
    },
    {
      "cell_type": "code",
      "metadata": {
        "id": "5c2uhJmIxr3e",
        "colab_type": "code",
        "colab": {}
      },
      "source": [
        "#x_sc_1 = x_sc / (np.linalg.norm(x_sc,axis = 0)) \n",
        "#rid_reg_sc=np.linalg.inv(x_sc_1.T@x_sc_1 + np.identity(x_sc_1.shape[1])*150) @ (x_sc_1.T@y.values.reshape(-1,1))\n",
        "#rid_reg_sc[0],rid_reg_sc[1:].flatten()"
      ],
      "execution_count": 600,
      "outputs": []
    },
    {
      "cell_type": "markdown",
      "metadata": {
        "id": "oGqizBg1Z-IJ",
        "colab_type": "text"
      },
      "source": [
        "## LASSO from scratch using coordinate descent"
      ]
    },
    {
      "cell_type": "code",
      "metadata": {
        "id": "pzDUEhRaalMp",
        "colab_type": "code",
        "colab": {
          "base_uri": "https://localhost:8080/",
          "height": 34
        },
        "outputId": "b18a1c03-a99e-46c3-9e90-f57eddfec940"
      },
      "source": [
        "LinearRegression()"
      ],
      "execution_count": 601,
      "outputs": [
        {
          "output_type": "execute_result",
          "data": {
            "text/plain": [
              "LinearRegression(copy_X=True, fit_intercept=True, n_jobs=None, normalize=False)"
            ]
          },
          "metadata": {
            "tags": []
          },
          "execution_count": 601
        }
      ]
    },
    {
      "cell_type": "code",
      "metadata": {
        "id": "Sud-wnKQaGFf",
        "colab_type": "code",
        "colab": {
          "base_uri": "https://localhost:8080/",
          "height": 51
        },
        "outputId": "a33452fc-77c3-4d3f-d2ed-c5b2fc32a8e1"
      },
      "source": [
        "Ridge()"
      ],
      "execution_count": 602,
      "outputs": [
        {
          "output_type": "execute_result",
          "data": {
            "text/plain": [
              "Ridge(alpha=1.0, copy_X=True, fit_intercept=True, max_iter=None,\n",
              "      normalize=False, random_state=None, solver='auto', tol=0.001)"
            ]
          },
          "metadata": {
            "tags": []
          },
          "execution_count": 602
        }
      ]
    },
    {
      "cell_type": "code",
      "metadata": {
        "id": "zYw-KB9ZagwL",
        "colab_type": "code",
        "colab": {
          "base_uri": "https://localhost:8080/",
          "height": 68
        },
        "outputId": "d3700117-3e38-420d-b16e-76a6c1ac2ba4"
      },
      "source": [
        "Lasso()"
      ],
      "execution_count": 603,
      "outputs": [
        {
          "output_type": "execute_result",
          "data": {
            "text/plain": [
              "Lasso(alpha=1.0, copy_X=True, fit_intercept=True, max_iter=1000,\n",
              "      normalize=False, positive=False, precompute=False, random_state=None,\n",
              "      selection='cyclic', tol=0.0001, warm_start=False)"
            ]
          },
          "metadata": {
            "tags": []
          },
          "execution_count": 603
        }
      ]
    },
    {
      "cell_type": "code",
      "metadata": {
        "id": "Q9_2uLenthsE",
        "colab_type": "code",
        "colab": {
          "base_uri": "https://localhost:8080/",
          "height": 119
        },
        "outputId": "9124995f-f830-4d5b-804c-b8e8899d9694"
      },
      "source": [
        "x=pd.DataFrame(data[0])\n",
        "y=pd.Series(data[1])\n",
        "las_reg=Lasso(1)\n",
        "las_reg.fit(x,y)\n",
        "print(las_reg.score(x,y))\n",
        "las_reg.intercept_,las_reg.coef_\n"
      ],
      "execution_count": 604,
      "outputs": [
        {
          "output_type": "stream",
          "text": [
            "0.9983442956151031\n"
          ],
          "name": "stdout"
        },
        {
          "output_type": "execute_result",
          "data": {
            "text/plain": [
              "(1.1328929927830593,\n",
              " array([99.1472425 , -0.        , 63.32856138, 29.0468693 , 55.05130703,\n",
              "         0.        ,  0.        , 71.49724763,  6.65436831, 93.34016527,\n",
              "        94.94536142, 62.92397169, 21.44044334, 92.12006551, 96.40803979,\n",
              "        56.04258298, 57.53852391, 28.69142134, -0.        ,  0.        ]))"
            ]
          },
          "metadata": {
            "tags": []
          },
          "execution_count": 604
        }
      ]
    },
    {
      "cell_type": "code",
      "metadata": {
        "id": "EstE-YvzUNOK",
        "colab_type": "code",
        "colab": {}
      },
      "source": [
        "def coordinate_descent_lasso(X,y,lam,alpha = .03, num_iters=20):\n",
        "        X=np.c_[np.ones(X.shape[0]),X]\n",
        "        m,n = X.shape\n",
        "        theta = np.zeros(n).reshape(-1,1)\n",
        "    \n",
        "        for i in range(num_iters):\n",
        "            for j in range(n):\n",
        "                h = X @ theta \n",
        "                rho =  (2*(X[:,j] @ (h-y)))\n",
        "                if j==0:\n",
        "                  theta[j]=0\n",
        "                else:\n",
        "                  if rho<(-lam/2):\n",
        "                    theta[j] = theta[j] - alpha *(rho-(lam/2))\n",
        "                  elif rho>(lam/2):\n",
        "                    theta[j] = theta[j] - alpha *(rho+(lam/2))\n",
        "                  else:\n",
        "                    theta[j]=0\n",
        "        return theta.flatten()"
      ],
      "execution_count": 605,
      "outputs": []
    },
    {
      "cell_type": "code",
      "metadata": {
        "id": "rSKJGz8UkAbp",
        "colab_type": "code",
        "colab": {
          "base_uri": "https://localhost:8080/",
          "height": 119
        },
        "outputId": "870698dd-75c8-4673-cd92-763098f6f4e9"
      },
      "source": [
        "coordinate_descent_lasso(x,y.values.reshape(-1,1),1,alpha = .0001, num_iters=700)"
      ],
      "execution_count": 606,
      "outputs": [
        {
          "output_type": "execute_result",
          "data": {
            "text/plain": [
              "array([  0.        , 100.09277171,  -0.24520159,  64.38573302,\n",
              "        30.15970787,  55.98736578,   0.13915371,   0.323858  ,\n",
              "        72.4996663 ,   7.67838211,  94.51671735,  96.15272535,\n",
              "        64.11130636,  22.20264098,  93.07703896,  97.51248274,\n",
              "        57.20565353,  58.60661228,  29.67995806,  -0.78311946,\n",
              "         0.30593151])"
            ]
          },
          "metadata": {
            "tags": []
          },
          "execution_count": 606
        }
      ]
    },
    {
      "cell_type": "code",
      "metadata": {
        "id": "GDaHlIjqsj63",
        "colab_type": "code",
        "colab": {
          "base_uri": "https://localhost:8080/",
          "height": 282
        },
        "outputId": "1a8d5055-b086-4d2a-c437-f8a7a861a52e"
      },
      "source": [
        "import matplotlib.pyplot as plt\n",
        "\n",
        "a=coordinate_descent_lasso(x,y.values.reshape(-1,1),1,alpha = .0001, num_iters=700).reshape(-1,1)\n",
        "plt.plot(las_reg.coef_)\n",
        "plt.plot(coordinate_descent_lasso(x,y.values.reshape(-1,1),1,alpha = .0001, num_iters=700)[1:],'-r')"
      ],
      "execution_count": 607,
      "outputs": [
        {
          "output_type": "execute_result",
          "data": {
            "text/plain": [
              "[<matplotlib.lines.Line2D at 0x7f40a66742b0>]"
            ]
          },
          "metadata": {
            "tags": []
          },
          "execution_count": 607
        },
        {
          "output_type": "display_data",
          "data": {
            "image/png": "[encoded data removed]",
            "text/plain": [
              "<Figure size 432x288 with 1 Axes>"
            ]
          },
          "metadata": {
            "tags": [],
            "needs_background": "light"
          }
        }
      ]
    },
    {
      "cell_type": "code",
      "metadata": {
        "id": "fF9HyPj0uqyX",
        "colab_type": "code",
        "colab": {}
      },
      "source": [
        "x=pd.DataFrame(data[0])\n",
        "x=np.c_[np.ones(x.shape[0]),x]\n",
        "y=pd.Series(data[1])\n",
        "y_pred=(x@a)\n"
      ],
      "execution_count": 608,
      "outputs": []
    },
    {
      "cell_type": "code",
      "metadata": {
        "id": "vxRh7H7QyE4f",
        "colab_type": "code",
        "colab": {
          "base_uri": "https://localhost:8080/",
          "height": 34
        },
        "outputId": "071ea0b7-2f31-4f94-c239-ad736390c5b2"
      },
      "source": [
        "from sklearn.metrics import r2_score\n",
        "r2_score(y,y_pred)"
      ],
      "execution_count": 609,
      "outputs": [
        {
          "output_type": "execute_result",
          "data": {
            "text/plain": [
              "0.9985813961145383"
            ]
          },
          "metadata": {
            "tags": []
          },
          "execution_count": 609
        }
      ]
    },
    {
      "cell_type": "markdown",
      "metadata": {
        "id": "hK0RsU0OyEuW",
        "colab_type": "text"
      },
      "source": [
        ""
      ]
    }
  ]
}