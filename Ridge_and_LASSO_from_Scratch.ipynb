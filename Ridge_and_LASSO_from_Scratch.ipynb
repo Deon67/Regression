{
  "nbformat": 4,
  "nbformat_minor": 0,
  "metadata": {
    "colab": {
      "name": "Ridge and LASSO from Scratch.ipynb",
      "provenance": [],
      "collapsed_sections": []
    },
    "kernelspec": {
      "name": "python3",
      "display_name": "Python 3"
    }
  },
  "cells": [
    {
      "cell_type": "code",
      "metadata": {
        "id": "MMuS-m_pppZp",
        "colab_type": "code",
        "colab": {}
      },
      "source": [
        "import pandas as pd\n",
        "import numpy as np\n",
        "import matplotlib.pyplot as plt\n",
        "import warnings\n",
        "warnings.filterwarnings('ignore')"
      ],
      "execution_count": 1,
      "outputs": []
    },
    {
      "cell_type": "code",
      "metadata": {
        "id": "DPKspWh7SxS8",
        "colab_type": "code",
        "colab": {}
      },
      "source": [
        "from sklearn.datasets import make_regression"
      ],
      "execution_count": 2,
      "outputs": []
    },
    {
      "cell_type": "code",
      "metadata": {
        "id": "yyE1IMvzS2ie",
        "colab_type": "code",
        "colab": {}
      },
      "source": [
        "data=make_regression(1000,20,n_informative=15,noise=10)\n",
        "x=pd.DataFrame(data[0])\n",
        "y=pd.Series(data[1])"
      ],
      "execution_count": 3,
      "outputs": []
    },
    {
      "cell_type": "code",
      "metadata": {
        "id": "dgvIQk4UTk2a",
        "colab_type": "code",
        "colab": {}
      },
      "source": [
        "from sklearn.linear_model import LinearRegression,Ridge,Lasso"
      ],
      "execution_count": 4,
      "outputs": []
    },
    {
      "cell_type": "code",
      "metadata": {
        "id": "BFxZ6caBpCz7",
        "colab_type": "code",
        "colab": {
          "base_uri": "https://localhost:8080/",
          "height": 34
        },
        "outputId": "d44a8700-779d-4ca8-8fbb-8b450225f40a"
      },
      "source": [
        "LinearRegression()"
      ],
      "execution_count": 5,
      "outputs": [
        {
          "output_type": "execute_result",
          "data": {
            "text/plain": [
              "LinearRegression(copy_X=True, fit_intercept=True, n_jobs=None, normalize=False)"
            ]
          },
          "metadata": {
            "tags": []
          },
          "execution_count": 5
        }
      ]
    },
    {
      "cell_type": "markdown",
      "metadata": {
        "id": "HQIxjDQyW14C",
        "colab_type": "text"
      },
      "source": [
        " ## Closed form solution of Linear Reg and Ridge Reg"
      ]
    },
    {
      "cell_type": "code",
      "metadata": {
        "id": "qWTWQp2zTiLx",
        "colab_type": "code",
        "colab": {
          "base_uri": "https://localhost:8080/",
          "height": 102
        },
        "outputId": "9f4d2d83-692c-4910-ebfc-5f00b8ace1b4"
      },
      "source": [
        "lin_reg=LinearRegression()\n",
        "lin_reg.fit(x,y)\n",
        "lin_reg.intercept_,lin_reg.coef_"
      ],
      "execution_count": 6,
      "outputs": [
        {
          "output_type": "execute_result",
          "data": {
            "text/plain": [
              "(0.10847752307961755,\n",
              " array([ 1.79247091, 32.46556895, 87.90701273, 64.08021075, 30.02109112,\n",
              "        -0.11379584, 16.11445425, 47.25167095, 25.19645659, 60.14749417,\n",
              "         0.32466091, 96.72209166, 68.49111697, 93.17852129,  0.19886888,\n",
              "        -0.17177873, 72.40079954, -0.45997287, 28.61850172, 71.97423666]))"
            ]
          },
          "metadata": {
            "tags": []
          },
          "execution_count": 6
        }
      ]
    },
    {
      "cell_type": "code",
      "metadata": {
        "id": "fmth4J-ET3BP",
        "colab_type": "code",
        "colab": {
          "base_uri": "https://localhost:8080/",
          "height": 102
        },
        "outputId": "09a80d83-31e8-4d82-d1df-6de429cbcb01"
      },
      "source": [
        "x_sc=np.c_[np.ones(x.shape[0]),x]\n",
        "reg_sc=np.linalg.inv(x_sc.T@x_sc) @ (x_sc.T@y.values.reshape(-1,1))\n",
        "reg_sc[0],reg_sc[1:].flatten()"
      ],
      "execution_count": 7,
      "outputs": [
        {
          "output_type": "execute_result",
          "data": {
            "text/plain": [
              "(array([0.10847752]),\n",
              " array([ 1.79247091, 32.46556895, 87.90701273, 64.08021075, 30.02109112,\n",
              "        -0.11379584, 16.11445425, 47.25167095, 25.19645659, 60.14749417,\n",
              "         0.32466091, 96.72209166, 68.49111697, 93.17852129,  0.19886888,\n",
              "        -0.17177873, 72.40079954, -0.45997287, 28.61850172, 71.97423666]))"
            ]
          },
          "metadata": {
            "tags": []
          },
          "execution_count": 7
        }
      ]
    },
    {
      "cell_type": "code",
      "metadata": {
        "id": "Jn_7zoaAVxUy",
        "colab_type": "code",
        "colab": {
          "base_uri": "https://localhost:8080/",
          "height": 102
        },
        "outputId": "fc005cef-eecd-43a5-d7b1-c21cd89d7ba5"
      },
      "source": [
        "rid_reg=Ridge(150,)\n",
        "rid_reg.fit(x,y)\n",
        "rid_reg.intercept_,rid_reg.coef_"
      ],
      "execution_count": 8,
      "outputs": [
        {
          "output_type": "execute_result",
          "data": {
            "text/plain": [
              "(0.981658863037576,\n",
              " array([ 0.29597433, 28.87884167, 74.73154289, 55.39806386, 25.68068432,\n",
              "         0.18802345, 13.38589955, 39.84192126, 21.79970515, 51.74716725,\n",
              "         1.28049927, 81.84241627, 58.47165065, 79.48590502, -0.35719078,\n",
              "         0.25814899, 61.54170623,  0.15945831, 24.15702637, 62.47562651]))"
            ]
          },
          "metadata": {
            "tags": []
          },
          "execution_count": 8
        }
      ]
    },
    {
      "cell_type": "code",
      "metadata": {
        "id": "R6ylfft3V887",
        "colab_type": "code",
        "colab": {
          "base_uri": "https://localhost:8080/",
          "height": 102
        },
        "outputId": "a2202f3e-48c8-4c64-a335-88b05b2558e8"
      },
      "source": [
        "rid_reg_sc=np.linalg.inv(x_sc.T@x_sc + np.identity(x_sc.shape[1])*150) @ (x_sc.T@y.values.reshape(-1,1))\n",
        "rid_reg_sc[0],rid_reg_sc[1:].flatten()\n"
      ],
      "execution_count": 9,
      "outputs": [
        {
          "output_type": "execute_result",
          "data": {
            "text/plain": [
              "(array([0.85236048]),\n",
              " array([ 0.29932397, 28.87808442, 74.73404942, 55.39399817, 25.68098471,\n",
              "         0.18683354, 13.38882336, 39.84606404, 21.79781056, 51.74372194,\n",
              "         1.28054142, 81.84788223, 58.47189098, 79.48733221, -0.35417237,\n",
              "         0.25816224, 61.5423861 ,  0.16626187, 24.15722484, 62.47667504]))"
            ]
          },
          "metadata": {
            "tags": []
          },
          "execution_count": 9
        }
      ]
    },
    {
      "cell_type": "markdown",
      "metadata": {
        "id": "BIFXvku7XBkr",
        "colab_type": "text"
      },
      "source": [
        "## Ridge Using Gradient Descent"
      ]
    },
    {
      "cell_type": "code",
      "metadata": {
        "id": "wemb1xb8XGIU",
        "colab_type": "code",
        "colab": {}
      },
      "source": [
        "def gradientdesc_ridge(*b,yi,xi,lam,tolerane,eta,verbose=False):\n",
        "    mag=100\n",
        "    xi=np.c_[[1 for _ in range(len(xi))],xi]\n",
        "    while mag>tolerane:\n",
        "        coef=np.array([*b]).reshape(-1,1)\n",
        "        pred=xi\n",
        "        error=yi.values.reshape(-1,1)-pred.dot(coef)\n",
        "        a=[np.sum(error)]\n",
        "        for i in range(1,xi.shape[1]):\n",
        "            a.append(np.sum(error*xi[:,i].reshape(-1,1)))\n",
        "        derv=np.array(a)\n",
        "        new_co=(coef*(1-(2*eta*lam)))+(2*eta*derv.reshape(-1,1))#the online line that changes from LR GD\n",
        "        if verbose==True:\n",
        "            print(*new_co)\n",
        "        ns=new_co\n",
        "        b=ns.flatten()\n",
        "        m=[]\n",
        "        for z in derv:\n",
        "            m.append(z**2)\n",
        "        mag=np.sqrt(np.sum(m))\n",
        "    return b"
      ],
      "execution_count": 10,
      "outputs": []
    },
    {
      "cell_type": "code",
      "metadata": {
        "id": "xasSvw7hEtke",
        "colab_type": "code",
        "colab": {}
      },
      "source": [
        "x=pd.DataFrame(data[0])\n",
        "y=pd.Series(data[1])\n",
        "ew=[0 for _ in range(x.shape[1]+1)]"
      ],
      "execution_count": 11,
      "outputs": []
    },
    {
      "cell_type": "code",
      "metadata": {
        "id": "ycyu4bZIDX_t",
        "colab_type": "code",
        "colab": {}
      },
      "source": [
        "#gradientdesc_ridge(ew,xi=x,yi=y,lam=150,tolerane=0.01,eta=0.0001,verbose=True)"
      ],
      "execution_count": 12,
      "outputs": []
    },
    {
      "cell_type": "code",
      "metadata": {
        "id": "hMEou18CqWsU",
        "colab_type": "code",
        "colab": {}
      },
      "source": [
        "def coordinate_descent_ridge(X,y,lam,alpha = .03, num_iters=20,normalize=False,verbose=False):\n",
        "    if normalize==False:\n",
        "        X=np.c_[np.ones(X.shape[0]),X]\n",
        "        m,n = X.shape\n",
        "        theta = np.zeros(n).reshape(-1,1)\n",
        "        print(theta.flatten())\n",
        "    \n",
        "        for i in range(num_iters):\n",
        "            for j in range(n):\n",
        "                h = X @ theta \n",
        "                gradient =  ((X[:,j] @ (h-y))) + (lam*theta[j])\n",
        "                theta[j] = theta[j] - alpha * gradient\n",
        "                if verbose==True:\n",
        "                    print(theta.flatten())\n",
        "                       \n",
        "        return theta.flatten()\n",
        "    elif normalize==True:\n",
        "        X=np.c_[np.ones(X.shape[0]),X]\n",
        "        X = X / (np.linalg.norm(X,axis = 0)) \n",
        "        m,n = X.shape\n",
        "        theta = np.zeros(n).reshape(-1,1)\n",
        "        print(theta.flatten())\n",
        "        for i in range(num_iters):\n",
        "            for j in range(n):\n",
        "                h = ((X[:,0:j] @ theta[0:j]) + (X[:,j+1:] @ theta[j+1:]))\n",
        "                theta[j] =  (X[:,j] @ (y - h))/(1+lam)\n",
        "                if verbose==True:\n",
        "                    print(theta.flatten())\n",
        "                       \n",
        "    return theta.flatten()"
      ],
      "execution_count": 13,
      "outputs": []
    },
    {
      "cell_type": "code",
      "metadata": {
        "id": "Yo7we5LB1UYz",
        "colab_type": "code",
        "colab": {
          "base_uri": "https://localhost:8080/",
          "height": 119
        },
        "outputId": "fcef3de9-8d07-4a38-c77e-2fc34b71f212"
      },
      "source": [
        "coordinate_descent_ridge(x,y.values.reshape(-1,1),150,alpha = .00001, num_iters=1000,normalize=False,verbose=False)"
      ],
      "execution_count": 14,
      "outputs": [
        {
          "output_type": "stream",
          "text": [
            "[0. 0. 0. 0. 0. 0. 0. 0. 0. 0. 0. 0. 0. 0. 0. 0. 0. 0. 0. 0. 0.]\n"
          ],
          "name": "stdout"
        },
        {
          "output_type": "execute_result",
          "data": {
            "text/plain": [
              "array([ 0.85407324,  0.29705547, 28.87885342, 74.73004281, 55.39211114,\n",
              "       25.67902355,  0.18812186, 13.38698987, 39.84345542, 21.79700811,\n",
              "       51.74245244,  1.28212387, 81.84351559, 58.47000665, 79.48396972,\n",
              "       -0.35548652,  0.25930827, 61.54011878,  0.16671579, 24.15582229,\n",
              "       62.47588334])"
            ]
          },
          "metadata": {
            "tags": []
          },
          "execution_count": 14
        }
      ]
    },
    {
      "cell_type": "code",
      "metadata": {
        "id": "TCur-MO5_29Y",
        "colab_type": "code",
        "colab": {
          "base_uri": "https://localhost:8080/",
          "height": 102
        },
        "outputId": "a139a731-886c-48bf-a5a3-5f24e6e37b95"
      },
      "source": [
        "rid_reg_sc[0],rid_reg_sc[1:].flatten()"
      ],
      "execution_count": 15,
      "outputs": [
        {
          "output_type": "execute_result",
          "data": {
            "text/plain": [
              "(array([0.85236048]),\n",
              " array([ 0.29932397, 28.87808442, 74.73404942, 55.39399817, 25.68098471,\n",
              "         0.18683354, 13.38882336, 39.84606404, 21.79781056, 51.74372194,\n",
              "         1.28054142, 81.84788223, 58.47189098, 79.48733221, -0.35417237,\n",
              "         0.25816224, 61.5423861 ,  0.16626187, 24.15722484, 62.47667504]))"
            ]
          },
          "metadata": {
            "tags": []
          },
          "execution_count": 15
        }
      ]
    },
    {
      "cell_type": "code",
      "metadata": {
        "id": "jDUs_XsMsYJ5",
        "colab_type": "code",
        "colab": {
          "base_uri": "https://localhost:8080/",
          "height": 119
        },
        "outputId": "910b0c3c-6a9a-4f61-8247-be8bc420fd9e"
      },
      "source": [
        "coordinate_descent_ridge(x,y.values.reshape(-1,1),150,alpha = .03, num_iters=20,normalize=True,verbose=False)"
      ],
      "execution_count": 16,
      "outputs": [
        {
          "output_type": "stream",
          "text": [
            "[0. 0. 0. 0. 0. 0. 0. 0. 0. 0. 0. 0. 0. 0. 0. 0. 0. 0. 0. 0. 0.]\n"
          ],
          "name": "stdout"
        },
        {
          "output_type": "execute_result",
          "data": {
            "text/plain": [
              "array([ 1.0776383 , -1.69467684,  7.86007649, 16.12923194, 12.92758418,\n",
              "        6.02830188,  0.17595253,  2.51713211,  7.78558524,  5.14542883,\n",
              "       11.90002239,  1.73089563, 16.82728526, 12.30396548, 17.4225    ,\n",
              "       -0.67973423,  0.43477952, 13.03910123,  0.95301171,  5.01735809,\n",
              "       15.33727546])"
            ]
          },
          "metadata": {
            "tags": []
          },
          "execution_count": 16
        }
      ]
    },
    {
      "cell_type": "code",
      "metadata": {
        "id": "5c2uhJmIxr3e",
        "colab_type": "code",
        "colab": {}
      },
      "source": [
        "#x_sc_1 = x_sc / (np.linalg.norm(x_sc,axis = 0)) \n",
        "#rid_reg_sc=np.linalg.inv(x_sc_1.T@x_sc_1 + np.identity(x_sc_1.shape[1])*150) @ (x_sc_1.T@y.values.reshape(-1,1))\n",
        "#rid_reg_sc[0],rid_reg_sc[1:].flatten()"
      ],
      "execution_count": 17,
      "outputs": []
    },
    {
      "cell_type": "markdown",
      "metadata": {
        "id": "oGqizBg1Z-IJ",
        "colab_type": "text"
      },
      "source": [
        "## LASSO from scratch using coordinate descent"
      ]
    },
    {
      "cell_type": "code",
      "metadata": {
        "id": "pzDUEhRaalMp",
        "colab_type": "code",
        "colab": {
          "base_uri": "https://localhost:8080/",
          "height": 34
        },
        "outputId": "8d89a6bf-5b1a-4f0f-e079-b02ab13f6454"
      },
      "source": [
        "LinearRegression()"
      ],
      "execution_count": 18,
      "outputs": [
        {
          "output_type": "execute_result",
          "data": {
            "text/plain": [
              "LinearRegression(copy_X=True, fit_intercept=True, n_jobs=None, normalize=False)"
            ]
          },
          "metadata": {
            "tags": []
          },
          "execution_count": 18
        }
      ]
    },
    {
      "cell_type": "code",
      "metadata": {
        "id": "Sud-wnKQaGFf",
        "colab_type": "code",
        "colab": {
          "base_uri": "https://localhost:8080/",
          "height": 51
        },
        "outputId": "30063941-353d-4bbf-be7b-58f3e26bc14c"
      },
      "source": [
        "Ridge()"
      ],
      "execution_count": 19,
      "outputs": [
        {
          "output_type": "execute_result",
          "data": {
            "text/plain": [
              "Ridge(alpha=1.0, copy_X=True, fit_intercept=True, max_iter=None,\n",
              "      normalize=False, random_state=None, solver='auto', tol=0.001)"
            ]
          },
          "metadata": {
            "tags": []
          },
          "execution_count": 19
        }
      ]
    },
    {
      "cell_type": "code",
      "metadata": {
        "id": "zYw-KB9ZagwL",
        "colab_type": "code",
        "colab": {
          "base_uri": "https://localhost:8080/",
          "height": 68
        },
        "outputId": "89e5b36b-85a0-4abe-b1b8-cddde857a6b1"
      },
      "source": [
        "Lasso()"
      ],
      "execution_count": 20,
      "outputs": [
        {
          "output_type": "execute_result",
          "data": {
            "text/plain": [
              "Lasso(alpha=1.0, copy_X=True, fit_intercept=True, max_iter=1000,\n",
              "      normalize=False, positive=False, precompute=False, random_state=None,\n",
              "      selection='cyclic', tol=0.0001, warm_start=False)"
            ]
          },
          "metadata": {
            "tags": []
          },
          "execution_count": 20
        }
      ]
    },
    {
      "cell_type": "code",
      "metadata": {
        "id": "HNAMimLqMh31",
        "colab_type": "code",
        "colab": {}
      },
      "source": [
        "# WORK IN PROGRESS"
      ],
      "execution_count": 29,
      "outputs": []
    },
    {
      "cell_type": "code",
      "metadata": {
        "id": "Q9_2uLenthsE",
        "colab_type": "code",
        "colab": {
          "base_uri": "https://localhost:8080/",
          "height": 119
        },
        "outputId": "01025885-c43b-4c73-cb8d-260bb46a7e14"
      },
      "source": [
        "x=pd.DataFrame(data[0])\n",
        "y=pd.Series(data[1])\n",
        "las_reg=Lasso(5)\n",
        "las_reg.fit(x,y)\n",
        "print(las_reg.score(x,y))\n",
        "las_reg.intercept_,las_reg.coef_\n",
        "for_plt=np.r_[las_reg.intercept_,las_reg.coef_]\n",
        "for_plt"
      ],
      "execution_count": 21,
      "outputs": [
        {
          "output_type": "stream",
          "text": [
            "0.9898763261210136\n"
          ],
          "name": "stdout"
        },
        {
          "output_type": "execute_result",
          "data": {
            "text/plain": [
              "array([ 0.53949859,  0.        , 28.23659799, 81.73517187, 58.88726124,\n",
              "       24.35365541, -0.        , 10.48210957, 41.3738581 , 20.36516545,\n",
              "       54.77036555,  0.        , 90.23751743, 62.94495843, 87.10539645,\n",
              "       -0.        ,  0.        , 66.54992199, -0.        , 23.20676226,\n",
              "       67.18305972])"
            ]
          },
          "metadata": {
            "tags": []
          },
          "execution_count": 21
        }
      ]
    },
    {
      "cell_type": "code",
      "metadata": {
        "id": "EstE-YvzUNOK",
        "colab_type": "code",
        "colab": {}
      },
      "source": [
        "def coordinate_descent_lasso(X,y,lam,alpha = .03, num_iters=20):\n",
        "        X=np.c_[np.ones(X.shape[0]),X]\n",
        "        m,n = X.shape\n",
        "        theta = np.ones(n).reshape(-1,1)\n",
        "    \n",
        "        for i in range(num_iters):\n",
        "            for j in range(n):\n",
        "                h = X @ theta \n",
        "                rho =  (X[:,j] @ (h-y))\n",
        "                if j==0:\n",
        "                  theta[j]=theta[j]- (alpha * rho)\n",
        "                else:\n",
        "                  if (-lam)<=rho<=(lam):\n",
        "                    theta[j]=0\n",
        "                  elif rho>(lam):\n",
        "                    theta[j] = theta[j] - alpha *(rho+(lam))\n",
        "                  elif rho<(-lam):\n",
        "                    theta[j] = theta[j] - alpha *(rho-(lam))\n",
        "        return theta.flatten()"
      ],
      "execution_count": 22,
      "outputs": []
    },
    {
      "cell_type": "code",
      "metadata": {
        "id": "cNkeAn_n5LQK",
        "colab_type": "code",
        "colab": {}
      },
      "source": [
        "def coordinate_descent_lasso1(X,y,lam,alpha = .03, num_iters=20):\n",
        "        X=np.c_[np.ones(X.shape[0]),X]\n",
        "        m,n = X.shape\n",
        "        theta = np.zeros(n).reshape(-1,1)\n",
        "    \n",
        "        for i in range(num_iters):\n",
        "            for j in range(n):\n",
        "                h =(X[:,0:j] @ theta[0:j]) + (X[:,j+1:] @ theta[j+1:])\n",
        "                rho =  (X[:,j] @ (y-h))\n",
        "                if j==0:\n",
        "                  theta[j]= theta[j]- (alpha*rho)\n",
        "                else:\n",
        "                  if (-lam/2)<=rho<=(lam/2):\n",
        "                    theta[j]=0\n",
        "                  elif rho>(lam/2):\n",
        "                    theta[j] =  (rho-(lam/2))/np.sum(X[:,j]**2)\n",
        "                  elif rho<(-lam/2):\n",
        "                    theta[j] =(rho+(lam/2))/np.sum(X[:,j]**2)\n",
        "        return theta.flatten()"
      ],
      "execution_count": 23,
      "outputs": []
    },
    {
      "cell_type": "code",
      "metadata": {
        "id": "rSKJGz8UkAbp",
        "colab_type": "code",
        "colab": {
          "base_uri": "https://localhost:8080/",
          "height": 119
        },
        "outputId": "37f541b2-6f57-47f3-9ba9-6d80edde09d4"
      },
      "source": [
        "a=coordinate_descent_lasso1(x,y.values.reshape(-1,1),5,alpha = .000001, num_iters=30)\n",
        "print(a)"
      ],
      "execution_count": 24,
      "outputs": [
        {
          "output_type": "stream",
          "text": [
            "[-9.30217357e-03  1.79281333e+00  3.24629755e+01  8.79064659e+01\n",
            "  6.40732188e+01  3.00183760e+01 -1.12459927e-01  1.61146478e+01\n",
            "  4.72529992e+01  2.51920458e+01  6.01414936e+01  3.22626668e-01\n",
            "  9.67245134e+01  6.84884589e+01  9.31769855e+01  1.99160956e-01\n",
            " -1.68982576e-01  7.23986352e+01 -4.50099959e-01  2.86159975e+01\n",
            "  7.19728829e+01]\n"
          ],
          "name": "stdout"
        }
      ]
    },
    {
      "cell_type": "code",
      "metadata": {
        "id": "GDaHlIjqsj63",
        "colab_type": "code",
        "colab": {
          "base_uri": "https://localhost:8080/",
          "height": 283
        },
        "outputId": "cd23604b-1915-4bf5-fb4e-db8b976e90b7"
      },
      "source": [
        "import matplotlib.pyplot as plt\n",
        "plt.plot(for_plt)\n",
        "plt.plot(a,'-r')"
      ],
      "execution_count": 25,
      "outputs": [
        {
          "output_type": "execute_result",
          "data": {
            "text/plain": [
              "[<matplotlib.lines.Line2D at 0x7f2ecb2ba198>]"
            ]
          },
          "metadata": {
            "tags": []
          },
          "execution_count": 25
        },
        {
          "output_type": "display_data",
          "data": {
            "image/png": "[encoded data removed]",
            "text/plain": [
              "<Figure size 432x288 with 1 Axes>"
            ]
          },
          "metadata": {
            "tags": [],
            "needs_background": "light"
          }
        }
      ]
    },
    {
      "cell_type": "code",
      "metadata": {
        "id": "fF9HyPj0uqyX",
        "colab_type": "code",
        "colab": {}
      },
      "source": [
        "x=pd.DataFrame(data[0])\n",
        "x=np.c_[np.ones(x.shape[0]),x]\n",
        "y=pd.Series(data[1])\n",
        "y_pred=(x@a)\n"
      ],
      "execution_count": 26,
      "outputs": []
    },
    {
      "cell_type": "code",
      "metadata": {
        "id": "vxRh7H7QyE4f",
        "colab_type": "code",
        "colab": {
          "base_uri": "https://localhost:8080/",
          "height": 34
        },
        "outputId": "3b75d8db-840e-4cd1-f9d6-100cf87bfef6"
      },
      "source": [
        "from sklearn.metrics import r2_score\n",
        "r2_score(y,y_pred)"
      ],
      "execution_count": 27,
      "outputs": [
        {
          "output_type": "execute_result",
          "data": {
            "text/plain": [
              "0.997885367027014"
            ]
          },
          "metadata": {
            "tags": []
          },
          "execution_count": 27
        }
      ]
    }
  ]
}