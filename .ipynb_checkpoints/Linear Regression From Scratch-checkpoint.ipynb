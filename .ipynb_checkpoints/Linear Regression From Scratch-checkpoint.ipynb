{
 "cells": [
  {
   "cell_type": "markdown",
   "metadata": {},
   "source": [
    "# Regression From Scratch"
   ]
  },
  {
   "cell_type": "code",
   "execution_count": 1,
   "metadata": {},
   "outputs": [],
   "source": [
    "import pandas as pd\n",
    "import numpy as np\n",
    "import warnings\n",
    "warnings.filterwarnings('ignore')"
   ]
  },
  {
   "cell_type": "code",
   "execution_count": 2,
   "metadata": {},
   "outputs": [
    {
     "data": {
      "text/html": [
       "<div>\n",
       "<style scoped>\n",
       "    .dataframe tbody tr th:only-of-type {\n",
       "        vertical-align: middle;\n",
       "    }\n",
       "\n",
       "    .dataframe tbody tr th {\n",
       "        vertical-align: top;\n",
       "    }\n",
       "\n",
       "    .dataframe thead th {\n",
       "        text-align: right;\n",
       "    }\n",
       "</style>\n",
       "<table border=\"1\" class=\"dataframe\">\n",
       "  <thead>\n",
       "    <tr style=\"text-align: right;\">\n",
       "      <th></th>\n",
       "      <th>population</th>\n",
       "      <th>profit</th>\n",
       "      <th>intercept</th>\n",
       "    </tr>\n",
       "  </thead>\n",
       "  <tbody>\n",
       "    <tr>\n",
       "      <th>0</th>\n",
       "      <td>6.1101</td>\n",
       "      <td>17.5920</td>\n",
       "      <td>1</td>\n",
       "    </tr>\n",
       "    <tr>\n",
       "      <th>1</th>\n",
       "      <td>5.5277</td>\n",
       "      <td>9.1302</td>\n",
       "      <td>1</td>\n",
       "    </tr>\n",
       "    <tr>\n",
       "      <th>2</th>\n",
       "      <td>8.5186</td>\n",
       "      <td>13.6620</td>\n",
       "      <td>1</td>\n",
       "    </tr>\n",
       "    <tr>\n",
       "      <th>3</th>\n",
       "      <td>7.0032</td>\n",
       "      <td>11.8540</td>\n",
       "      <td>1</td>\n",
       "    </tr>\n",
       "    <tr>\n",
       "      <th>4</th>\n",
       "      <td>5.8598</td>\n",
       "      <td>6.8233</td>\n",
       "      <td>1</td>\n",
       "    </tr>\n",
       "  </tbody>\n",
       "</table>\n",
       "</div>"
      ],
      "text/plain": [
       "   population   profit  intercept\n",
       "0      6.1101  17.5920          1\n",
       "1      5.5277   9.1302          1\n",
       "2      8.5186  13.6620          1\n",
       "3      7.0032  11.8540          1\n",
       "4      5.8598   6.8233          1"
      ]
     },
     "execution_count": 2,
     "metadata": {},
     "output_type": "execute_result"
    }
   ],
   "source": [
    "df = pd.read_csv('Data/ex1-Copy1.csv', header= None, names=['population', 'profit'], delimiter=',')\n",
    "df[\"intercept\"]=1\n",
    "df.head()\n"
   ]
  },
  {
   "cell_type": "markdown",
   "metadata": {},
   "source": [
    "## Setting the Gradients equal to 0"
   ]
  },
  {
   "cell_type": "code",
   "execution_count": 3,
   "metadata": {},
   "outputs": [],
   "source": [
    "from numpy.linalg import inv\n",
    "x=df.iloc[:,[2,0]].values\n",
    "y=df.iloc[:,1].values.reshape(-1,1)"
   ]
  },
  {
   "cell_type": "code",
   "execution_count": 4,
   "metadata": {},
   "outputs": [
    {
     "data": {
      "text/plain": [
       "((97, 2), (97, 1))"
      ]
     },
     "execution_count": 4,
     "metadata": {},
     "output_type": "execute_result"
    }
   ],
   "source": [
    "x.shape,y.shape"
   ]
  },
  {
   "cell_type": "code",
   "execution_count": 5,
   "metadata": {},
   "outputs": [
    {
     "data": {
      "text/plain": [
       "(2, 2)"
      ]
     },
     "execution_count": 5,
     "metadata": {},
     "output_type": "execute_result"
    }
   ],
   "source": [
    "part1=inv(x.T.dot(x))\n",
    "part1.shape"
   ]
  },
  {
   "cell_type": "code",
   "execution_count": 6,
   "metadata": {},
   "outputs": [
    {
     "data": {
      "text/plain": [
       "(2, 1)"
      ]
     },
     "execution_count": 6,
     "metadata": {},
     "output_type": "execute_result"
    }
   ],
   "source": [
    "part2=x.T.dot(y)\n",
    "part2.shape"
   ]
  },
  {
   "cell_type": "code",
   "execution_count": 7,
   "metadata": {},
   "outputs": [
    {
     "data": {
      "text/plain": [
       "array([[-3.89578088],\n",
       "       [ 1.19303364]])"
      ]
     },
     "execution_count": 7,
     "metadata": {},
     "output_type": "execute_result"
    }
   ],
   "source": [
    "part1@part2"
   ]
  },
  {
   "cell_type": "code",
   "execution_count": 8,
   "metadata": {},
   "outputs": [
    {
     "data": {
      "text/plain": [
       "array([[ 566.3961    ],\n",
       "       [6336.89842532]])"
      ]
     },
     "execution_count": 8,
     "metadata": {},
     "output_type": "execute_result"
    }
   ],
   "source": [
    "part3=y.T.dot(x)\n",
    "part3.T"
   ]
  },
  {
   "cell_type": "code",
   "execution_count": 9,
   "metadata": {},
   "outputs": [
    {
     "data": {
      "text/plain": [
       "array([[-3.89578088],\n",
       "       [ 1.19303364]])"
      ]
     },
     "execution_count": 9,
     "metadata": {},
     "output_type": "execute_result"
    }
   ],
   "source": [
    "part1@part3.T"
   ]
  },
  {
   "cell_type": "markdown",
   "metadata": {},
   "source": [
    "### Using Covariance "
   ]
  },
  {
   "cell_type": "code",
   "execution_count": 10,
   "metadata": {},
   "outputs": [],
   "source": [
    "x_new=df.iloc[:,0]\n",
    "y_new=df.iloc[:,1]"
   ]
  },
  {
   "cell_type": "code",
   "execution_count": 11,
   "metadata": {},
   "outputs": [],
   "source": [
    "mean_x=np.mean(x_new)\n",
    "mean_y=np.mean(y_new)"
   ]
  },
  {
   "cell_type": "code",
   "execution_count": 12,
   "metadata": {},
   "outputs": [
    {
     "name": "stdout",
     "output_type": "stream",
     "text": [
      "-3.89578087831186 1.1930336441895937\n"
     ]
    }
   ],
   "source": [
    "b1=np.sum((x_new - mean_x) * (y_new - mean_y))/np.sum((x_new - mean_x) ** 2)\n",
    "b0 = mean_y - (b1 * mean_x)\n",
    "print(b0,b1)"
   ]
  },
  {
   "cell_type": "markdown",
   "metadata": {},
   "source": [
    "### Using Correlation"
   ]
  },
  {
   "cell_type": "code",
   "execution_count": 13,
   "metadata": {},
   "outputs": [
    {
     "name": "stdout",
     "output_type": "stream",
     "text": [
      "-3.8957808783118635 1.1930336441895941\n"
     ]
    }
   ],
   "source": [
    "b1=df.corr().iloc[1,0]*(np.sqrt(np.sum((y_new - mean_y) ** 2))/np.sqrt(np.sum((x_new - mean_x) ** 2)))\n",
    "b0 = mean_y - (b1 * mean_x)\n",
    "print(b0,b1)"
   ]
  },
  {
   "cell_type": "markdown",
   "metadata": {},
   "source": [
    "## Gradient Descent"
   ]
  },
  {
   "cell_type": "code",
   "execution_count": 14,
   "metadata": {},
   "outputs": [],
   "source": [
    "xi=df['population'].values\n",
    "yi=df['profit'].values"
   ]
  },
  {
   "cell_type": "code",
   "execution_count": 15,
   "metadata": {
    "code_folding": []
   },
   "outputs": [],
   "source": [
    "def gradientdescent(b0,b1,yi,xi,tolerance,eta,verbose=False):\n",
    "    mag=100\n",
    "    while mag>tolerance:\n",
    "        coef=np.array([b0,b1])\n",
    "        error=yi-(b0+(b1*xi))\n",
    "        derv=np.array([np.sum(error),np.sum(error*xi)])\n",
    "        new_co=coef+((2*eta)*derv)\n",
    "        if verbose==True:\n",
    "            print(b0,b1,mag,derv)\n",
    "        b0,b1=new_co[0],new_co[1]\n",
    "        mag=np.sqrt(np.sum(error)**2+np.sum(error*xi)**2)\n",
    "    return b0,b1\n"
   ]
  },
  {
   "cell_type": "code",
   "execution_count": 16,
   "metadata": {},
   "outputs": [
    {
     "name": "stdout",
     "output_type": "stream",
     "text": [
      "(nan, nan)\n",
      "(-0.9939597615566699, 4.997881198760072)\n",
      "(-0.9936783876089295, 4.99778249810861)\n"
     ]
    }
   ],
   "source": [
    "for i in [0.1,0.01,0.0001]:\n",
    "    print(gradientdescent(2,3,np.array([1,3,7,13,21]),np.array([0,1,2,3,4]),0.01,i))"
   ]
  },
  {
   "cell_type": "code",
   "execution_count": 17,
   "metadata": {},
   "outputs": [
    {
     "name": "stdout",
     "output_type": "stream",
     "text": [
      "(nan, nan)\n",
      "(nan, nan)\n",
      "(-3.8952142727726105, 1.1929767225173094)\n"
     ]
    }
   ],
   "source": [
    "for i in [0.1,0.01,0.0001]:\n",
    "    print(gradientdescent(0,0,yi,xi,0.01,i))"
   ]
  },
  {
   "cell_type": "code",
   "execution_count": 18,
   "metadata": {},
   "outputs": [
    {
     "data": {
      "text/plain": [
       "(-0.9939158298014424, 4.997865788332434)"
      ]
     },
     "execution_count": 18,
     "metadata": {},
     "output_type": "execute_result"
    }
   ],
   "source": [
    "gradientdescent(0,0,np.array([1,3,7,13,21]),np.array([0,1,2,3,4]),0.01,0.01)"
   ]
  },
  {
   "cell_type": "code",
   "execution_count": 19,
   "metadata": {},
   "outputs": [
    {
     "data": {
      "text/plain": [
       "(-3.8952142727726105, 1.1929767225173094)"
      ]
     },
     "execution_count": 19,
     "metadata": {},
     "output_type": "execute_result"
    }
   ],
   "source": [
    "gradientdescent(0,0,yi,xi,0.01,0.0001)"
   ]
  },
  {
   "cell_type": "code",
   "execution_count": 20,
   "metadata": {},
   "outputs": [
    {
     "name": "stdout",
     "output_type": "stream",
     "text": [
      "The b0 is -3.8952142727726105 and b1 is 1.1929767225173094\n"
     ]
    }
   ],
   "source": [
    "print('The b0 is {0} and b1 is {1}'.format(*gradientdescent(0,0,yi,xi,0.01,0.0001)))"
   ]
  },
  {
   "cell_type": "markdown",
   "metadata": {},
   "source": [
    "## Gradient Descent - General"
   ]
  },
  {
   "cell_type": "code",
   "execution_count": 21,
   "metadata": {},
   "outputs": [],
   "source": [
    "def gradientdesc(*b,yi,xi,tolerane,eta,verbose=False):\n",
    "    mag=100\n",
    "    xi=np.c_[[1 for _ in range(len(xi))],xi]\n",
    "    while mag>tolerane:\n",
    "        coef=np.array([*b]).reshape(-1,1)\n",
    "        pred=xi\n",
    "        error=yi.reshape(-1,1)-pred.dot(coef)\n",
    "        a=[np.sum(error)]\n",
    "        for i in range(1,xi.shape[1]):\n",
    "            a.append(np.sum(error*xi[:,i].reshape(-1,1)))\n",
    "        derv=np.array(a)\n",
    "        new_co=coef+((2*eta)*derv.reshape(-1,1))\n",
    "        if verbose==True:\n",
    "            print(*new_co)\n",
    "        ns=new_co\n",
    "        b=ns.flatten()\n",
    "        m=[]\n",
    "        for z in derv:\n",
    "            m.append(z**2)\n",
    "        mag=np.sqrt(np.sum(m))\n",
    "    return b"
   ]
  },
  {
   "cell_type": "code",
   "execution_count": 22,
   "metadata": {},
   "outputs": [
    {
     "data": {
      "text/plain": [
       "array([-0.99391583,  4.99786579])"
      ]
     },
     "execution_count": 22,
     "metadata": {},
     "output_type": "execute_result"
    }
   ],
   "source": [
    "gradientdesc(0,0,yi=np.array([1,3,7,13,21]),xi=np.array([0,1,2,3,4]),tolerane=0.01,eta=0.01)"
   ]
  },
  {
   "cell_type": "code",
   "execution_count": 23,
   "metadata": {},
   "outputs": [
    {
     "data": {
      "text/plain": [
       "array([-3.89521427,  1.19297672])"
      ]
     },
     "execution_count": 23,
     "metadata": {},
     "output_type": "execute_result"
    }
   ],
   "source": [
    "gradientdesc(0,0,yi=yi,xi=xi,tolerane=0.01,eta=0.0001)"
   ]
  },
  {
   "cell_type": "markdown",
   "metadata": {},
   "source": [
    "# Coordinate Descent"
   ]
  },
  {
   "cell_type": "code",
   "execution_count": 44,
   "metadata": {},
   "outputs": [],
   "source": [
    "y1=np.array([1,3,7,13,21])\n",
    "x1=np.array([0,1,2,3,4])\n",
    "xi=df['population'].values\n",
    "yi=df['profit'].values"
   ]
  },
  {
   "cell_type": "code",
   "execution_count": 45,
   "metadata": {},
   "outputs": [],
   "source": [
    "def coordinate_descent(X,y,alpha = .03, num_iters=20,normalize=False,verbose=False):\n",
    "    if normalize==False:\n",
    "        X=np.c_[np.ones(X.shape[0]),X]\n",
    "        m,n = X.shape\n",
    "        theta = np.zeros(n).reshape(-1,1)\n",
    "        print(theta.flatten())\n",
    "    \n",
    "        for i in range(num_iters):\n",
    "            for j in range(n):\n",
    "                h = X @ theta\n",
    "                gradient =  (X[:,j] @ (h-y))\n",
    "                theta[j] = theta[j] - alpha * gradient\n",
    "                if verbose==True:\n",
    "                    print(theta.flatten())\n",
    "                       \n",
    "        return theta \n",
    "    elif normalize==True:\n",
    "        X=np.c_[np.ones(X.shape[0]),X]\n",
    "        X = X / (np.linalg.norm(X,axis = 0)) \n",
    "        m,n = X.shape\n",
    "        theta = np.zeros(n).reshape(-1,1)\n",
    "        print(theta.flatten())\n",
    "        for i in range(num_iters):\n",
    "            for j in range(n):\n",
    "                h = (X[:,0:j] @ theta[0:j]) + (X[:,j+1:] @ theta[j+1:])\n",
    "                theta[j] =  (X[:,j] @ (y - h))\n",
    "                if verbose==True:\n",
    "                    print(theta.flatten())\n",
    "                       \n",
    "    return theta"
   ]
  },
  {
   "cell_type": "code",
   "execution_count": 46,
   "metadata": {},
   "outputs": [
    {
     "name": "stdout",
     "output_type": "stream",
     "text": [
      "[0. 0.]\n",
      "[20.1246118  0.       ]\n",
      "[20.1246118   9.12870929]\n",
      "[12.67105187  9.12870929]\n",
      "[12.67105187 15.21451549]\n",
      "[ 7.70201192 15.21451549]\n",
      "[ 7.70201192 19.27171962]\n",
      "[ 4.38931862 19.27171962]\n",
      "[ 4.38931862 21.97652237]\n",
      "[ 2.18085642 21.97652237]\n",
      "[ 2.18085642 23.7797242 ]\n",
      "[ 0.70854829 23.7797242 ]\n",
      "[ 0.70854829 24.98185876]\n",
      "[-0.27299047 24.98185876]\n",
      "[-0.27299047 25.7832818 ]\n",
      "[-0.92734964 25.7832818 ]\n",
      "[-0.92734964 26.31756382]\n",
      "[-1.36358908 26.31756382]\n",
      "[-1.36358908 26.67375184]\n",
      "[-1.65441538 26.67375184]\n",
      "[-1.65441538 26.91121052]\n",
      "[-1.84829958 26.91121052]\n",
      "[-1.84829958 27.0695163 ]\n",
      "[-1.97755571 27.0695163 ]\n",
      "[-1.97755571 27.17505349]\n",
      "[-2.06372647 27.17505349]\n",
      "[-2.06372647 27.24541162]\n",
      "[-2.12117364 27.24541162]\n",
      "[-2.12117364 27.29231704]\n",
      "[-2.15947175 27.29231704]\n",
      "[-2.15947175 27.32358732]\n",
      "[-2.18500383 27.32358732]\n",
      "[-2.18500383 27.34443417]\n",
      "[-2.20202521 27.34443417]\n",
      "[-2.20202521 27.35833207]\n",
      "[-2.2133728  27.35833207]\n",
      "[-2.2133728  27.36759734]\n",
      "[-2.22093786 27.36759734]\n",
      "[-2.22093786 27.37377418]\n",
      "[-2.22598123 27.37377418]\n",
      "[-2.22598123 27.37789208]\n",
      "[-2.22934348 27.37789208]\n",
      "[-2.22934348 27.38063735]\n",
      "[-2.23158498 27.38063735]\n",
      "[-2.23158498 27.38246752]\n",
      "[-2.23307931 27.38246752]\n",
      "[-2.23307931 27.38368764]\n",
      "[-2.23407553 27.38368764]\n",
      "[-2.23407553 27.38450105]\n",
      "[-2.23473968 27.38450105]\n",
      "[-2.23473968 27.38504333]\n",
      "[-2.23518245 27.38504333]\n",
      "[-2.23518245 27.38540484]\n",
      "[-2.23547762 27.38540484]\n",
      "[-2.23547762 27.38564585]\n",
      "[-2.23567441 27.38564585]\n",
      "[-2.23567441 27.38580653]\n",
      "[-2.2358056  27.38580653]\n",
      "[-2.2358056  27.38591364]\n",
      "[-2.23589306 27.38591364]\n",
      "[-2.23589306 27.38598505]\n",
      "[-2.23595136 27.38598505]\n",
      "[-2.23595136 27.38603266]\n",
      "[-2.23599024 27.38603266]\n",
      "[-2.23599024 27.3860644 ]\n",
      "[-2.23601615 27.3860644 ]\n",
      "[-2.23601615 27.38608556]\n",
      "[-2.23603343 27.38608556]\n",
      "[-2.23603343 27.38609966]\n",
      "[-2.23604494 27.38609966]\n",
      "[-2.23604494 27.38610907]\n",
      "[-2.23605262 27.38610907]\n",
      "[-2.23605262 27.38611534]\n",
      "[-2.23605774 27.38611534]\n",
      "[-2.23605774 27.38611952]\n",
      "[-2.23606115 27.38611952]\n",
      "[-2.23606115 27.3861223 ]\n",
      "[-2.23606343 27.3861223 ]\n",
      "[-2.23606343 27.38612416]\n",
      "[-2.23606494 27.38612416]\n",
      "[-2.23606494 27.3861254 ]\n",
      "[-2.23606596 27.3861254 ]\n",
      "[-2.23606596 27.38612622]\n",
      "[-2.23606663 27.38612622]\n",
      "[-2.23606663 27.38612677]\n",
      "[-2.23606708 27.38612677]\n",
      "[-2.23606708 27.38612714]\n",
      "[-2.23606738 27.38612714]\n",
      "[-2.23606738 27.38612739]\n",
      "[-2.23606758 27.38612739]\n",
      "[-2.23606758 27.38612755]\n",
      "[-2.23606771 27.38612755]\n",
      "[-2.23606771 27.38612766]\n",
      "[-2.2360678  27.38612766]\n",
      "[-2.2360678  27.38612773]\n",
      "[-2.23606786 27.38612773]\n",
      "[-2.23606786 27.38612778]\n",
      "[-2.2360679  27.38612778]\n",
      "[-2.2360679  27.38612781]\n",
      "[-2.23606792 27.38612781]\n",
      "[-2.23606792 27.38612783]\n",
      "[-2.23606794 27.38612783]\n",
      "[-2.23606794 27.38612785]\n",
      "[-2.23606795 27.38612785]\n",
      "[-2.23606795 27.38612786]\n",
      "[-2.23606796 27.38612786]\n",
      "[-2.23606796 27.38612786]\n",
      "[-2.23606797 27.38612786]\n",
      "[-2.23606797 27.38612787]\n",
      "[-2.23606797 27.38612787]\n",
      "[-2.23606797 27.38612787]\n",
      "[-2.23606797 27.38612787]\n",
      "[-2.23606797 27.38612787]\n",
      "[-2.23606797 27.38612787]\n",
      "[-2.23606797 27.38612787]\n",
      "[-2.23606798 27.38612787]\n",
      "[-2.23606798 27.38612787]\n",
      "[-2.23606798 27.38612787]\n",
      "[-2.23606798 27.38612787]\n",
      "[-2.23606798 27.38612787]\n",
      "[-2.23606798 27.38612787]\n",
      "[-2.23606798 27.38612787]\n",
      "[-2.23606798 27.38612787]\n",
      "[-2.23606798 27.38612787]\n",
      "[-2.23606798 27.38612787]\n",
      "[-2.23606798 27.38612787]\n",
      "[-2.23606798 27.38612788]\n",
      "[-2.23606798 27.38612788]\n",
      "[-2.23606798 27.38612788]\n",
      "[-2.23606798 27.38612788]\n",
      "[-2.23606798 27.38612788]\n",
      "[-2.23606798 27.38612788]\n",
      "[-2.23606798 27.38612788]\n",
      "[-2.23606798 27.38612788]\n",
      "[-2.23606798 27.38612788]\n",
      "[-2.23606798 27.38612788]\n",
      "[-2.23606798 27.38612788]\n",
      "[-2.23606798 27.38612788]\n",
      "[-2.23606798 27.38612788]\n",
      "[-2.23606798 27.38612788]\n",
      "[-2.23606798 27.38612788]\n",
      "[-2.23606798 27.38612788]\n",
      "[-2.23606798 27.38612788]\n",
      "[-2.23606798 27.38612788]\n",
      "[-2.23606798 27.38612788]\n",
      "[-2.23606798 27.38612788]\n",
      "[-2.23606798 27.38612788]\n",
      "[-2.23606798 27.38612788]\n",
      "[-2.23606798 27.38612788]\n",
      "[-2.23606798 27.38612788]\n",
      "[-2.23606798 27.38612788]\n",
      "[-2.23606798 27.38612788]\n",
      "[-2.23606798 27.38612788]\n",
      "[-2.23606798 27.38612788]\n",
      "[-2.23606798 27.38612788]\n",
      "[-2.23606798 27.38612788]\n",
      "[-2.23606798 27.38612788]\n",
      "[-2.23606798 27.38612788]\n",
      "[-2.23606798 27.38612788]\n",
      "[-2.23606798 27.38612788]\n",
      "[-2.23606798 27.38612788]\n",
      "[-2.23606798 27.38612788]\n",
      "[-2.23606798 27.38612788]\n",
      "[-2.23606798 27.38612788]\n",
      "[-2.23606798 27.38612788]\n",
      "[-2.23606798 27.38612788]\n",
      "[-2.23606798 27.38612788]\n",
      "[-2.23606798 27.38612788]\n",
      "[-2.23606798 27.38612788]\n",
      "[-2.23606798 27.38612788]\n",
      "[-2.23606798 27.38612788]\n",
      "[-2.23606798 27.38612788]\n",
      "[-2.23606798 27.38612788]\n",
      "[-2.23606798 27.38612788]\n",
      "[-2.23606798 27.38612788]\n",
      "[-2.23606798 27.38612788]\n",
      "[-2.23606798 27.38612788]\n",
      "[-2.23606798 27.38612788]\n",
      "[-2.23606798 27.38612788]\n",
      "[-2.23606798 27.38612788]\n",
      "[-2.23606798 27.38612788]\n",
      "[-2.23606798 27.38612788]\n",
      "[-2.23606798 27.38612788]\n",
      "[-2.23606798 27.38612788]\n",
      "[-2.23606798 27.38612788]\n",
      "[-2.23606798 27.38612788]\n",
      "[-2.23606798 27.38612788]\n",
      "[-2.23606798 27.38612788]\n",
      "[-2.23606798 27.38612788]\n",
      "[-2.23606798 27.38612788]\n",
      "[-2.23606798 27.38612788]\n",
      "[-2.23606798 27.38612788]\n",
      "[-2.23606798 27.38612788]\n",
      "[-2.23606798 27.38612788]\n",
      "[-2.23606798 27.38612788]\n",
      "[-2.23606798 27.38612788]\n",
      "[-2.23606798 27.38612788]\n",
      "[-2.23606798 27.38612788]\n",
      "[-2.23606798 27.38612788]\n",
      "[-2.23606798 27.38612788]\n",
      "[-2.23606798 27.38612788]\n"
     ]
    },
    {
     "data": {
      "text/plain": [
       "array([[-2.23606798],\n",
       "       [27.38612788]])"
      ]
     },
     "execution_count": 46,
     "metadata": {},
     "output_type": "execute_result"
    }
   ],
   "source": [
    "coordinate_descent(x1,y1.reshape(-1,1),num_iters=100,normalize=True,verbose=True)"
   ]
  },
  {
   "cell_type": "code",
   "execution_count": 47,
   "metadata": {},
   "outputs": [
    {
     "name": "stdout",
     "output_type": "stream",
     "text": [
      "[0. 0.]\n"
     ]
    },
    {
     "data": {
      "text/plain": [
       "array([[-0.99893356],\n",
       "       [ 4.99963105]])"
      ]
     },
     "execution_count": 47,
     "metadata": {},
     "output_type": "execute_result"
    }
   ],
   "source": [
    "coordinate_descent(x1,y1.reshape(-1,1),num_iters=500,alpha=0.01,normalize=False)"
   ]
  },
  {
   "cell_type": "code",
   "execution_count": 48,
   "metadata": {},
   "outputs": [
    {
     "name": "stdout",
     "output_type": "stream",
     "text": [
      "[0. 0.]\n"
     ]
    },
    {
     "data": {
      "text/plain": [
       "array([[-38.3689919 ],\n",
       "       [106.01352582]])"
      ]
     },
     "execution_count": 48,
     "metadata": {},
     "output_type": "execute_result"
    }
   ],
   "source": [
    "coordinate_descent(xi,yi.reshape(-1,1),num_iters=10000,normalize=True)"
   ]
  },
  {
   "cell_type": "code",
   "execution_count": 49,
   "metadata": {
    "scrolled": true
   },
   "outputs": [
    {
     "name": "stdout",
     "output_type": "stream",
     "text": [
      "[0. 0.]\n"
     ]
    },
    {
     "data": {
      "text/plain": [
       "array([[-3.89553762],\n",
       "       [ 1.19300925]])"
      ]
     },
     "execution_count": 49,
     "metadata": {},
     "output_type": "execute_result"
    }
   ],
   "source": [
    "coordinate_descent(xi,yi.reshape(-1,1),num_iters=5500,alpha=0.0001,normalize=False)"
   ]
  },
  {
   "cell_type": "code",
   "execution_count": 57,
   "metadata": {
    "scrolled": true
   },
   "outputs": [
    {
     "name": "stdout",
     "output_type": "stream",
     "text": [
      "0.0 [-38.3689919  106.01352582]\n"
     ]
    },
    {
     "data": {
      "text/plain": [
       "0.7020315537841397"
      ]
     },
     "execution_count": 57,
     "metadata": {},
     "output_type": "execute_result"
    }
   ],
   "source": [
    "xi=df['population'].values.reshape(-1,1)\n",
    "yi=df['profit'].values\n",
    "xi=np.c_[np.ones(xi.shape[0]),xi]\n",
    "xi=xi/(np.linalg.norm(xi,axis=0))\n",
    "#print(xi)\n",
    "from sklearn.linear_model import LinearRegression\n",
    "reg_1=LinearRegression(fit_intercept=False)\n",
    "reg_1.fit(xi,yi)\n",
    "print(reg_1.intercept_,reg_1.coef_)\n",
    "reg_1.score(xi,yi)"
   ]
  },
  {
   "cell_type": "code",
   "execution_count": null,
   "metadata": {},
   "outputs": [],
   "source": []
  }
 ],
 "metadata": {
  "kernelspec": {
   "display_name": "Python 3 (ipykernel)",
   "language": "python",
   "name": "python3"
  },
  "language_info": {
   "codemirror_mode": {
    "name": "ipython",
    "version": 3
   },
   "file_extension": ".py",
   "mimetype": "text/x-python",
   "name": "python",
   "nbconvert_exporter": "python",
   "pygments_lexer": "ipython3",
   "version": "3.9.12"
  },
  "latex_envs": {
   "LaTeX_envs_menu_present": true,
   "autoclose": false,
   "autocomplete": true,
   "bibliofile": "biblio.bib",
   "cite_by": "apalike",
   "current_citInitial": 1,
   "eqLabelWithNumbers": true,
   "eqNumInitial": 1,
   "hotkeys": {
    "equation": "Ctrl-E",
    "itemize": "Ctrl-I"
   },
   "labels_anchors": false,
   "latex_user_defs": false,
   "report_style_numbering": false,
   "user_envs_cfg": false
  },
  "toc": {
   "base_numbering": 1,
   "nav_menu": {},
   "number_sections": true,
   "sideBar": true,
   "skip_h1_title": false,
   "title_cell": "Table of Contents",
   "title_sidebar": "Contents",
   "toc_cell": false,
   "toc_position": {},
   "toc_section_display": true,
   "toc_window_display": false
  }
 },
 "nbformat": 4,
 "nbformat_minor": 4
}
