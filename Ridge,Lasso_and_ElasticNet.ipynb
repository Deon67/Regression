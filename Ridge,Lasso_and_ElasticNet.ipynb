{
  "nbformat": 4,
  "nbformat_minor": 0,
  "metadata": {
    "colab": {
      "name": "Ridge,Lasso and ElasticNet.ipynb",
      "provenance": []
    },
    "kernelspec": {
      "name": "python3",
      "display_name": "Python 3"
    }
  },
  "cells": [
    {
      "cell_type": "code",
      "metadata": {
        "id": "Ah9vPBkznHZ8",
        "colab_type": "code",
        "colab": {}
      },
      "source": [
        "import pandas as pd\n",
        "import numpy as np\n",
        "import matplotlib.pyplot as plt\n",
        "import seaborn as sns\n",
        "sns.set()\n",
        "import warnings\n",
        "warnings.filterwarnings('ignore')"
      ],
      "execution_count": 3,
      "outputs": []
    },
    {
      "cell_type": "code",
      "metadata": {
        "id": "ym7Nl6_HohPe",
        "colab_type": "code",
        "colab": {
          "base_uri": "https://localhost:8080/",
          "height": 34
        },
        "outputId": "b93d6dc1-f126-44cd-8c81-3bd89340e5ba"
      },
      "source": [
        "data=pd.read_csv('kc_house_data_2.csv')\n",
        "data.head()\n",
        "\n",
        "data.shape"
      ],
      "execution_count": 4,
      "outputs": [
        {
          "output_type": "execute_result",
          "data": {
            "text/plain": [
              "(21613, 35)"
            ]
          },
          "metadata": {
            "tags": []
          },
          "execution_count": 4
        }
      ]
    },
    {
      "cell_type": "code",
      "metadata": {
        "id": "GQMCeVScolsY",
        "colab_type": "code",
        "colab": {}
      },
      "source": [
        "from sklearn.preprocessing import PolynomialFeatures\n",
        "from sklearn.model_selection import train_test_split\n",
        "from sklearn.linear_model import LinearRegression,Ridge,Lasso,ElasticNet\n",
        "from sklearn.metrics import r2_score\n",
        "\n",
        "x=data.drop('price',axis=1)\n",
        "y=data['price']\n",
        "x_train,x_test,y_train,y_test=train_test_split(x,y,random_state=43)"
      ],
      "execution_count": 5,
      "outputs": []
    },
    {
      "cell_type": "code",
      "metadata": {
        "id": "D10oentkoo6T",
        "colab_type": "code",
        "colab": {
          "base_uri": "https://localhost:8080/",
          "height": 34
        },
        "outputId": "efdbda58-b087-4d71-9bdb-e5da1c9b532d"
      },
      "source": [
        "lin_reg=LinearRegression()\n",
        "lin_reg.fit(x_train,y_train)\n",
        "lin_reg.score(x_train,y_train)"
      ],
      "execution_count": 6,
      "outputs": [
        {
          "output_type": "execute_result",
          "data": {
            "text/plain": [
              "0.7513670773560932"
            ]
          },
          "metadata": {
            "tags": []
          },
          "execution_count": 6
        }
      ]
    },
    {
      "cell_type": "code",
      "metadata": {
        "id": "qODA1OLropuT",
        "colab_type": "code",
        "colab": {
          "base_uri": "https://localhost:8080/",
          "height": 34
        },
        "outputId": "966d0a7b-3b62-4a3e-e3d2-7e372e667a3e"
      },
      "source": [
        "print(r2_score(y_test,lin_reg.predict(x_test)))\n",
        "\n",
        "alphas   = np.logspace(-5, 3, 200)\n",
        "coefs = []"
      ],
      "execution_count": 7,
      "outputs": [
        {
          "output_type": "stream",
          "text": [
            "0.7293377892880162\n"
          ],
          "name": "stdout"
        }
      ]
    },
    {
      "cell_type": "code",
      "metadata": {
        "id": "FaNlEO-rn3Q3",
        "colab_type": "code",
        "colab": {}
      },
      "source": [
        "for a in alphas:\n",
        "    ridge = Ridge(alpha=a, fit_intercept=True) # Since we did not add a col of 1s\n",
        "    ridge.fit(x_train,y_train)\n",
        "    coefs.append(ridge.coef_)\n",
        "\n"
      ],
      "execution_count": 8,
      "outputs": []
    },
    {
      "cell_type": "code",
      "metadata": {
        "id": "q5am3eCGo0xE",
        "colab_type": "code",
        "colab": {
          "base_uri": "https://localhost:8080/",
          "height": 362
        },
        "outputId": "b24851d2-9b32-4182-fc7b-7d4577949928"
      },
      "source": [
        "plt.figure(figsize=(14, 5))\n",
        "plt.grid()\n",
        "\n",
        "ax = plt.gca()\n",
        "\n",
        "ax.plot(alphas, coefs)\n",
        "\n",
        "ax.set_xscale('log')\n",
        "ax.set_xlim(ax.get_xlim()[::-1])  # reverse axis\n",
        "plt.xlabel('alpha')\n",
        "plt.ylabel('weights')\n",
        "\n",
        "plt.title('Ridge coefficients');"
      ],
      "execution_count": 9,
      "outputs": [
        {
          "output_type": "display_data",
          "data": {
            "image/png": "[encoded data removed]",
            "text/plain": [
              "<Figure size 1008x360 with 1 Axes>"
            ]
          },
          "metadata": {
            "tags": []
          }
        }
      ]
    },
    {
      "cell_type": "code",
      "metadata": {
        "id": "h2e75eScp7Hr",
        "colab_type": "code",
        "colab": {
          "base_uri": "https://localhost:8080/",
          "height": 153
        },
        "outputId": "b6619e42-8dc2-4fde-9a86-615a5bf80892"
      },
      "source": [
        "from sklearn.model_selection import GridSearchCV\n",
        "gs=GridSearchCV(Ridge(),param_grid={'alpha':[0.01,1,10,50,100]})\n",
        "gs.fit(x_train,y_train)"
      ],
      "execution_count": 10,
      "outputs": [
        {
          "output_type": "execute_result",
          "data": {
            "text/plain": [
              "GridSearchCV(cv=None, error_score=nan,\n",
              "             estimator=Ridge(alpha=1.0, copy_X=True, fit_intercept=True,\n",
              "                             max_iter=None, normalize=False, random_state=None,\n",
              "                             solver='auto', tol=0.001),\n",
              "             iid='deprecated', n_jobs=None,\n",
              "             param_grid={'alpha': [0.01, 1, 10, 50, 100]},\n",
              "             pre_dispatch='2*n_jobs', refit=True, return_train_score=False,\n",
              "             scoring=None, verbose=0)"
            ]
          },
          "metadata": {
            "tags": []
          },
          "execution_count": 10
        }
      ]
    },
    {
      "cell_type": "code",
      "metadata": {
        "id": "guBUv-iZrJaz",
        "colab_type": "code",
        "colab": {
          "base_uri": "https://localhost:8080/",
          "height": 34
        },
        "outputId": "5ad39e9a-ed39-4039-d279-133c4500a1ed"
      },
      "source": [
        "gs.best_params_"
      ],
      "execution_count": 11,
      "outputs": [
        {
          "output_type": "execute_result",
          "data": {
            "text/plain": [
              "{'alpha': 50}"
            ]
          },
          "metadata": {
            "tags": []
          },
          "execution_count": 11
        }
      ]
    },
    {
      "cell_type": "code",
      "metadata": {
        "id": "Xqd5VXDXrOFZ",
        "colab_type": "code",
        "colab": {
          "base_uri": "https://localhost:8080/",
          "height": 170
        },
        "outputId": "184a374d-1079-4f67-abf9-557de5eb804a"
      },
      "source": [
        "lin_reg.coef_"
      ],
      "execution_count": 12,
      "outputs": [
        {
          "output_type": "execute_result",
          "data": {
            "text/plain": [
              "array([-6.65262180e+03, -2.51047041e+04,  4.89553051e+05,  2.73253018e-03,\n",
              "       -5.61853477e+04,  2.60952141e+05,  1.53928708e+04,  6.36897362e+04,\n",
              "       -2.03532766e+05, -4.89517027e+05, -4.89564192e+05, -7.00202185e+04,\n",
              "       -4.00188591e+03,  1.54897460e+08, -3.72888977e+07,  1.02650271e+02,\n",
              "       -2.05522401e-01,  2.33436722e+02,  1.37635429e+04,  4.06382313e-02,\n",
              "        1.24746197e-07,  1.33358901e+04,  2.60647958e+05,  9.54790404e+03,\n",
              "       -2.26350501e+03,  1.92842857e+04, -2.74031326e-02, -7.67713162e-02,\n",
              "        1.74546651e+01,  2.02415772e+00, -1.62323088e+06, -1.52156333e+05,\n",
              "       -1.33720364e-02,  2.38536359e-07])"
            ]
          },
          "metadata": {
            "tags": []
          },
          "execution_count": 12
        }
      ]
    },
    {
      "cell_type": "code",
      "metadata": {
        "id": "nITacThJsCLa",
        "colab_type": "code",
        "colab": {
          "base_uri": "https://localhost:8080/",
          "height": 34
        },
        "outputId": "8032cf75-a8b7-4eb0-fb59-8684f3f02ee3"
      },
      "source": [
        "rid_reg=Ridge(alpha=50)\n",
        "rid_reg.fit(x_train,y_train)\n",
        "rid_reg.score(x_train,y_train)\n"
      ],
      "execution_count": 13,
      "outputs": [
        {
          "output_type": "execute_result",
          "data": {
            "text/plain": [
              "0.7433764834403117"
            ]
          },
          "metadata": {
            "tags": []
          },
          "execution_count": 13
        }
      ]
    },
    {
      "cell_type": "code",
      "metadata": {
        "id": "u5VNU7TCsa_A",
        "colab_type": "code",
        "colab": {
          "base_uri": "https://localhost:8080/",
          "height": 34
        },
        "outputId": "0242ecd0-8195-48f2-8c4b-129884ae8d9a"
      },
      "source": [
        "print(r2_score(y_test,rid_reg.predict(x_test)))"
      ],
      "execution_count": 14,
      "outputs": [
        {
          "output_type": "stream",
          "text": [
            "0.7220303146839474\n"
          ],
          "name": "stdout"
        }
      ]
    },
    {
      "cell_type": "code",
      "metadata": {
        "id": "JFjeW92Ssv0h",
        "colab_type": "code",
        "colab": {
          "base_uri": "https://localhost:8080/",
          "height": 34
        },
        "outputId": "0cc97da3-14ac-4c52-bdb8-52a4e397d806"
      },
      "source": [
        "las_reg=Lasso(alpha=50,)\n",
        "las_reg.fit(x_train,y_train)\n",
        "las_reg.score(x_train,y_train)"
      ],
      "execution_count": 15,
      "outputs": [
        {
          "output_type": "execute_result",
          "data": {
            "text/plain": [
              "0.7416283326229441"
            ]
          },
          "metadata": {
            "tags": []
          },
          "execution_count": 15
        }
      ]
    },
    {
      "cell_type": "code",
      "metadata": {
        "id": "OQ7_WzExs4aJ",
        "colab_type": "code",
        "colab": {
          "base_uri": "https://localhost:8080/",
          "height": 34
        },
        "outputId": "4f2e81f5-2d5a-49ae-d68f-c04596d33fea"
      },
      "source": [
        "print(r2_score(y_test,las_reg.predict(x_test)))"
      ],
      "execution_count": 16,
      "outputs": [
        {
          "output_type": "stream",
          "text": [
            "0.720394103220962\n"
          ],
          "name": "stdout"
        }
      ]
    },
    {
      "cell_type": "code",
      "metadata": {
        "id": "a-74k1bMvIj7",
        "colab_type": "code",
        "colab": {
          "base_uri": "https://localhost:8080/",
          "height": 34
        },
        "outputId": "653c962d-f0fd-4bb9-9e97-878d1f353fba"
      },
      "source": [
        "ela_reg=ElasticNet(alpha=50)\n",
        "ela_reg.fit(x_train,y_train)\n",
        "ela_reg.score(x_train,y_train)"
      ],
      "execution_count": 17,
      "outputs": [
        {
          "output_type": "execute_result",
          "data": {
            "text/plain": [
              "0.7077993420657009"
            ]
          },
          "metadata": {
            "tags": []
          },
          "execution_count": 17
        }
      ]
    },
    {
      "cell_type": "code",
      "metadata": {
        "id": "cup3bnPFxtig",
        "colab_type": "code",
        "colab": {
          "base_uri": "https://localhost:8080/",
          "height": 34
        },
        "outputId": "90ccfff9-cd44-49a4-fd88-ea856be0da2e"
      },
      "source": [
        "print(r2_score(y_test,ela_reg.predict(x_test)))"
      ],
      "execution_count": 18,
      "outputs": [
        {
          "output_type": "stream",
          "text": [
            "0.686637268485623\n"
          ],
          "name": "stdout"
        }
      ]
    },
    {
      "cell_type": "code",
      "metadata": {
        "id": "bIACEVE5thh1",
        "colab_type": "code",
        "colab": {
          "base_uri": "https://localhost:8080/",
          "height": 173
        },
        "outputId": "c612dbab-3b01-43ca-8a4f-6b0f80e2eb24"
      },
      "source": [
        "result=pd.DataFrame(index=['Linear','Ridge','Lasso','ElasticNet'])\n",
        "result['Train_score']=[lin_reg.score(x_train,y_train),rid_reg.score(x_train,y_train),\n",
        "                       las_reg.score(x_train,y_train),ela_reg.score(x_train,y_train)]\n",
        "\n",
        "result['Test_Score']=[r2_score(y_test,lin_reg.predict(x_test)),\n",
        "                               r2_score(y_test,rid_reg.predict(x_test)),\n",
        "                                        r2_score(y_test,las_reg.predict(x_test)),r2_score(y_test,ela_reg.predict(x_test))]\n",
        "result                                                                                                        \n",
        "                                                                                                          "
      ],
      "execution_count": 19,
      "outputs": [
        {
          "output_type": "execute_result",
          "data": {
            "text/html": [
              "<div>\n",
              "<style scoped>\n",
              "    .dataframe tbody tr th:only-of-type {\n",
              "        vertical-align: middle;\n",
              "    }\n",
              "\n",
              "    .dataframe tbody tr th {\n",
              "        vertical-align: top;\n",
              "    }\n",
              "\n",
              "    .dataframe thead th {\n",
              "        text-align: right;\n",
              "    }\n",
              "</style>\n",
              "<table border=\"1\" class=\"dataframe\">\n",
              "  <thead>\n",
              "    <tr style=\"text-align: right;\">\n",
              "      <th></th>\n",
              "      <th>Train_score</th>\n",
              "      <th>Test_Score</th>\n",
              "    </tr>\n",
              "  </thead>\n",
              "  <tbody>\n",
              "    <tr>\n",
              "      <th>Linear</th>\n",
              "      <td>0.751367</td>\n",
              "      <td>0.729338</td>\n",
              "    </tr>\n",
              "    <tr>\n",
              "      <th>Ridge</th>\n",
              "      <td>0.743376</td>\n",
              "      <td>0.722030</td>\n",
              "    </tr>\n",
              "    <tr>\n",
              "      <th>Lasso</th>\n",
              "      <td>0.741628</td>\n",
              "      <td>0.720394</td>\n",
              "    </tr>\n",
              "    <tr>\n",
              "      <th>ElasticNet</th>\n",
              "      <td>0.707799</td>\n",
              "      <td>0.686637</td>\n",
              "    </tr>\n",
              "  </tbody>\n",
              "</table>\n",
              "</div>"
            ],
            "text/plain": [
              "            Train_score  Test_Score\n",
              "Linear         0.751367    0.729338\n",
              "Ridge          0.743376    0.722030\n",
              "Lasso          0.741628    0.720394\n",
              "ElasticNet     0.707799    0.686637"
            ]
          },
          "metadata": {
            "tags": []
          },
          "execution_count": 19
        }
      ]
    },
    {
      "cell_type": "code",
      "metadata": {
        "id": "5GMyf3DYs-pN",
        "colab_type": "code",
        "colab": {
          "base_uri": "https://localhost:8080/",
          "height": 1000
        },
        "outputId": "069eb1e1-d88e-4825-88d1-a63e3aad1f89"
      },
      "source": [
        "pd.DataFrame({'Lasso Coefficient':las_reg.coef_,'Ridge Coefficient':rid_reg.coef_,'Linear':lin_reg.coef_,'ElasticNet':ela_reg.coef_})"
      ],
      "execution_count": 20,
      "outputs": [
        {
          "output_type": "execute_result",
          "data": {
            "text/html": [
              "<div>\n",
              "<style scoped>\n",
              "    .dataframe tbody tr th:only-of-type {\n",
              "        vertical-align: middle;\n",
              "    }\n",
              "\n",
              "    .dataframe tbody tr th {\n",
              "        vertical-align: top;\n",
              "    }\n",
              "\n",
              "    .dataframe thead th {\n",
              "        text-align: right;\n",
              "    }\n",
              "</style>\n",
              "<table border=\"1\" class=\"dataframe\">\n",
              "  <thead>\n",
              "    <tr style=\"text-align: right;\">\n",
              "      <th></th>\n",
              "      <th>Lasso Coefficient</th>\n",
              "      <th>Ridge Coefficient</th>\n",
              "      <th>Linear</th>\n",
              "      <th>ElasticNet</th>\n",
              "    </tr>\n",
              "  </thead>\n",
              "  <tbody>\n",
              "    <tr>\n",
              "      <th>0</th>\n",
              "      <td>-9.958386e+03</td>\n",
              "      <td>-8.678445e+03</td>\n",
              "      <td>-6.652622e+03</td>\n",
              "      <td>-2.237666e+02</td>\n",
              "    </tr>\n",
              "    <tr>\n",
              "      <th>1</th>\n",
              "      <td>-2.204184e+04</td>\n",
              "      <td>-2.936065e+04</td>\n",
              "      <td>-2.510470e+04</td>\n",
              "      <td>3.221702e+02</td>\n",
              "    </tr>\n",
              "    <tr>\n",
              "      <th>2</th>\n",
              "      <td>-1.700868e+02</td>\n",
              "      <td>8.033926e+00</td>\n",
              "      <td>4.895531e+05</td>\n",
              "      <td>1.338288e+00</td>\n",
              "    </tr>\n",
              "    <tr>\n",
              "      <th>3</th>\n",
              "      <td>-9.833554e-02</td>\n",
              "      <td>-6.322316e-02</td>\n",
              "      <td>2.732530e-03</td>\n",
              "      <td>-1.014776e-01</td>\n",
              "    </tr>\n",
              "    <tr>\n",
              "      <th>4</th>\n",
              "      <td>-0.000000e+00</td>\n",
              "      <td>-2.435809e+04</td>\n",
              "      <td>-5.618535e+04</td>\n",
              "      <td>1.586500e+02</td>\n",
              "    </tr>\n",
              "    <tr>\n",
              "      <th>5</th>\n",
              "      <td>3.742774e+05</td>\n",
              "      <td>2.015897e+05</td>\n",
              "      <td>2.609521e+05</td>\n",
              "      <td>1.745274e+02</td>\n",
              "    </tr>\n",
              "    <tr>\n",
              "      <th>6</th>\n",
              "      <td>1.336499e+04</td>\n",
              "      <td>4.589429e+03</td>\n",
              "      <td>1.539287e+04</td>\n",
              "      <td>1.073571e+03</td>\n",
              "    </tr>\n",
              "    <tr>\n",
              "      <th>7</th>\n",
              "      <td>2.491344e+04</td>\n",
              "      <td>2.661949e+04</td>\n",
              "      <td>6.368974e+04</td>\n",
              "      <td>2.939406e+02</td>\n",
              "    </tr>\n",
              "    <tr>\n",
              "      <th>8</th>\n",
              "      <td>-2.039379e+05</td>\n",
              "      <td>-1.655147e+05</td>\n",
              "      <td>-2.035328e+05</td>\n",
              "      <td>2.743144e+02</td>\n",
              "    </tr>\n",
              "    <tr>\n",
              "      <th>9</th>\n",
              "      <td>1.932429e+02</td>\n",
              "      <td>1.536861e+01</td>\n",
              "      <td>-4.895170e+05</td>\n",
              "      <td>6.114999e+00</td>\n",
              "    </tr>\n",
              "    <tr>\n",
              "      <th>10</th>\n",
              "      <td>1.726311e+02</td>\n",
              "      <td>-7.334704e+00</td>\n",
              "      <td>-4.895642e+05</td>\n",
              "      <td>-1.768516e+01</td>\n",
              "    </tr>\n",
              "    <tr>\n",
              "      <th>11</th>\n",
              "      <td>2.958924e+03</td>\n",
              "      <td>-6.466641e+04</td>\n",
              "      <td>-7.002022e+04</td>\n",
              "      <td>-1.037126e+02</td>\n",
              "    </tr>\n",
              "    <tr>\n",
              "      <th>12</th>\n",
              "      <td>-6.474195e+01</td>\n",
              "      <td>-3.921429e+03</td>\n",
              "      <td>-4.001886e+03</td>\n",
              "      <td>-4.984221e+01</td>\n",
              "    </tr>\n",
              "    <tr>\n",
              "      <th>13</th>\n",
              "      <td>0.000000e+00</td>\n",
              "      <td>2.112641e+03</td>\n",
              "      <td>1.548975e+08</td>\n",
              "      <td>5.207536e+01</td>\n",
              "    </tr>\n",
              "    <tr>\n",
              "      <th>14</th>\n",
              "      <td>0.000000e+00</td>\n",
              "      <td>-1.152403e+02</td>\n",
              "      <td>-3.728890e+07</td>\n",
              "      <td>-1.430496e+00</td>\n",
              "    </tr>\n",
              "    <tr>\n",
              "      <th>15</th>\n",
              "      <td>9.374629e+01</td>\n",
              "      <td>8.761613e+01</td>\n",
              "      <td>1.026503e+02</td>\n",
              "      <td>6.189445e+01</td>\n",
              "    </tr>\n",
              "    <tr>\n",
              "      <th>16</th>\n",
              "      <td>-4.627586e-01</td>\n",
              "      <td>-3.683208e-01</td>\n",
              "      <td>-2.055224e-01</td>\n",
              "      <td>-4.578894e-01</td>\n",
              "    </tr>\n",
              "    <tr>\n",
              "      <th>17</th>\n",
              "      <td>2.618330e+02</td>\n",
              "      <td>2.209378e+02</td>\n",
              "      <td>2.334367e+02</td>\n",
              "      <td>-4.056739e+02</td>\n",
              "    </tr>\n",
              "    <tr>\n",
              "      <th>18</th>\n",
              "      <td>1.461633e+04</td>\n",
              "      <td>1.509222e+04</td>\n",
              "      <td>1.376354e+04</td>\n",
              "      <td>1.876556e+03</td>\n",
              "    </tr>\n",
              "    <tr>\n",
              "      <th>19</th>\n",
              "      <td>3.913889e-02</td>\n",
              "      <td>3.926999e-02</td>\n",
              "      <td>4.063823e-02</td>\n",
              "      <td>5.254585e-02</td>\n",
              "    </tr>\n",
              "    <tr>\n",
              "      <th>20</th>\n",
              "      <td>1.900765e-07</td>\n",
              "      <td>1.534852e-07</td>\n",
              "      <td>1.247462e-07</td>\n",
              "      <td>2.373942e-07</td>\n",
              "    </tr>\n",
              "    <tr>\n",
              "      <th>21</th>\n",
              "      <td>4.420109e+03</td>\n",
              "      <td>6.876667e+03</td>\n",
              "      <td>1.333589e+04</td>\n",
              "      <td>5.881185e+02</td>\n",
              "    </tr>\n",
              "    <tr>\n",
              "      <th>22</th>\n",
              "      <td>1.307318e+05</td>\n",
              "      <td>2.015897e+05</td>\n",
              "      <td>2.606480e+05</td>\n",
              "      <td>1.745458e+02</td>\n",
              "    </tr>\n",
              "    <tr>\n",
              "      <th>23</th>\n",
              "      <td>9.729227e+03</td>\n",
              "      <td>1.475351e+04</td>\n",
              "      <td>9.547904e+03</td>\n",
              "      <td>3.855376e+03</td>\n",
              "    </tr>\n",
              "    <tr>\n",
              "      <th>24</th>\n",
              "      <td>1.965413e+03</td>\n",
              "      <td>2.304146e+03</td>\n",
              "      <td>-2.263505e+03</td>\n",
              "      <td>2.247018e+03</td>\n",
              "    </tr>\n",
              "    <tr>\n",
              "      <th>25</th>\n",
              "      <td>1.947861e+04</td>\n",
              "      <td>1.702148e+04</td>\n",
              "      <td>1.928429e+04</td>\n",
              "      <td>6.212587e+03</td>\n",
              "    </tr>\n",
              "    <tr>\n",
              "      <th>26</th>\n",
              "      <td>-2.422513e-02</td>\n",
              "      <td>-2.367551e-02</td>\n",
              "      <td>-2.740313e-02</td>\n",
              "      <td>-2.728464e-02</td>\n",
              "    </tr>\n",
              "    <tr>\n",
              "      <th>27</th>\n",
              "      <td>-7.549496e-02</td>\n",
              "      <td>-7.479247e-02</td>\n",
              "      <td>-7.677132e-02</td>\n",
              "      <td>-8.523428e-02</td>\n",
              "    </tr>\n",
              "    <tr>\n",
              "      <th>28</th>\n",
              "      <td>-1.242664e+00</td>\n",
              "      <td>1.602120e+01</td>\n",
              "      <td>1.745467e+01</td>\n",
              "      <td>-4.906629e-01</td>\n",
              "    </tr>\n",
              "    <tr>\n",
              "      <th>29</th>\n",
              "      <td>5.010904e-02</td>\n",
              "      <td>1.983263e+00</td>\n",
              "      <td>2.024158e+00</td>\n",
              "      <td>4.805269e-02</td>\n",
              "    </tr>\n",
              "    <tr>\n",
              "      <th>30</th>\n",
              "      <td>5.966733e+03</td>\n",
              "      <td>5.958676e+03</td>\n",
              "      <td>-1.623231e+06</td>\n",
              "      <td>5.016027e+03</td>\n",
              "    </tr>\n",
              "    <tr>\n",
              "      <th>31</th>\n",
              "      <td>3.554001e+02</td>\n",
              "      <td>3.691842e+02</td>\n",
              "      <td>-1.521563e+05</td>\n",
              "      <td>5.914337e+02</td>\n",
              "    </tr>\n",
              "    <tr>\n",
              "      <th>32</th>\n",
              "      <td>-1.064934e-02</td>\n",
              "      <td>-9.188041e-03</td>\n",
              "      <td>-1.337204e-02</td>\n",
              "      <td>1.908192e-04</td>\n",
              "    </tr>\n",
              "    <tr>\n",
              "      <th>33</th>\n",
              "      <td>6.727969e-07</td>\n",
              "      <td>4.014148e-07</td>\n",
              "      <td>2.385364e-07</td>\n",
              "      <td>6.685326e-07</td>\n",
              "    </tr>\n",
              "  </tbody>\n",
              "</table>\n",
              "</div>"
            ],
            "text/plain": [
              "    Lasso Coefficient  Ridge Coefficient        Linear    ElasticNet\n",
              "0       -9.958386e+03      -8.678445e+03 -6.652622e+03 -2.237666e+02\n",
              "1       -2.204184e+04      -2.936065e+04 -2.510470e+04  3.221702e+02\n",
              "2       -1.700868e+02       8.033926e+00  4.895531e+05  1.338288e+00\n",
              "3       -9.833554e-02      -6.322316e-02  2.732530e-03 -1.014776e-01\n",
              "4       -0.000000e+00      -2.435809e+04 -5.618535e+04  1.586500e+02\n",
              "5        3.742774e+05       2.015897e+05  2.609521e+05  1.745274e+02\n",
              "6        1.336499e+04       4.589429e+03  1.539287e+04  1.073571e+03\n",
              "7        2.491344e+04       2.661949e+04  6.368974e+04  2.939406e+02\n",
              "8       -2.039379e+05      -1.655147e+05 -2.035328e+05  2.743144e+02\n",
              "9        1.932429e+02       1.536861e+01 -4.895170e+05  6.114999e+00\n",
              "10       1.726311e+02      -7.334704e+00 -4.895642e+05 -1.768516e+01\n",
              "11       2.958924e+03      -6.466641e+04 -7.002022e+04 -1.037126e+02\n",
              "12      -6.474195e+01      -3.921429e+03 -4.001886e+03 -4.984221e+01\n",
              "13       0.000000e+00       2.112641e+03  1.548975e+08  5.207536e+01\n",
              "14       0.000000e+00      -1.152403e+02 -3.728890e+07 -1.430496e+00\n",
              "15       9.374629e+01       8.761613e+01  1.026503e+02  6.189445e+01\n",
              "16      -4.627586e-01      -3.683208e-01 -2.055224e-01 -4.578894e-01\n",
              "17       2.618330e+02       2.209378e+02  2.334367e+02 -4.056739e+02\n",
              "18       1.461633e+04       1.509222e+04  1.376354e+04  1.876556e+03\n",
              "19       3.913889e-02       3.926999e-02  4.063823e-02  5.254585e-02\n",
              "20       1.900765e-07       1.534852e-07  1.247462e-07  2.373942e-07\n",
              "21       4.420109e+03       6.876667e+03  1.333589e+04  5.881185e+02\n",
              "22       1.307318e+05       2.015897e+05  2.606480e+05  1.745458e+02\n",
              "23       9.729227e+03       1.475351e+04  9.547904e+03  3.855376e+03\n",
              "24       1.965413e+03       2.304146e+03 -2.263505e+03  2.247018e+03\n",
              "25       1.947861e+04       1.702148e+04  1.928429e+04  6.212587e+03\n",
              "26      -2.422513e-02      -2.367551e-02 -2.740313e-02 -2.728464e-02\n",
              "27      -7.549496e-02      -7.479247e-02 -7.677132e-02 -8.523428e-02\n",
              "28      -1.242664e+00       1.602120e+01  1.745467e+01 -4.906629e-01\n",
              "29       5.010904e-02       1.983263e+00  2.024158e+00  4.805269e-02\n",
              "30       5.966733e+03       5.958676e+03 -1.623231e+06  5.016027e+03\n",
              "31       3.554001e+02       3.691842e+02 -1.521563e+05  5.914337e+02\n",
              "32      -1.064934e-02      -9.188041e-03 -1.337204e-02  1.908192e-04\n",
              "33       6.727969e-07       4.014148e-07  2.385364e-07  6.685326e-07"
            ]
          },
          "metadata": {
            "tags": []
          },
          "execution_count": 20
        }
      ]
    }
  ]
}